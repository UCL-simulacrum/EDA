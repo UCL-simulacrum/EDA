{
 "cells": [
  {
   "cell_type": "code",
   "execution_count": 2,
   "metadata": {},
   "outputs": [
    {
     "name": "stderr",
     "output_type": "stream",
     "text": [
      "/home/jon/.local/lib/python3.6/site-packages/matplotlib/__init__.py:886: MatplotlibDeprecationWarning: \n",
      "examples.directory is deprecated; in the future, examples will be found relative to the 'datapath' directory.\n",
      "  \"found relative to the 'datapath' directory.\".format(key))\n"
     ]
    }
   ],
   "source": [
    "import pandas as pd\n",
    "import matplotlib.pyplot as plt\n",
    "import seaborn as sns\n",
    "import numpy as np"
   ]
  },
  {
   "cell_type": "markdown",
   "metadata": {},
   "source": [
    "## all features of each dataset"
   ]
  },
  {
   "cell_type": "markdown",
   "metadata": {},
   "source": [
    "This is a table of all the columns in each dataset, there are a lot so it might be useful to see all of them in one table"
   ]
  },
  {
   "cell_type": "code",
   "execution_count": 4,
   "metadata": {
    "scrolled": false
   },
   "outputs": [
    {
     "ename": "ImportError",
     "evalue": "Install xlrd >= 0.9.0 for Excel support",
     "output_type": "error",
     "traceback": [
      "\u001b[0;31m---------------------------------------------------------------------------\u001b[0m",
      "\u001b[0;31mModuleNotFoundError\u001b[0m                       Traceback (most recent call last)",
      "\u001b[0;32m~/.local/lib/python3.6/site-packages/pandas/io/excel.py\u001b[0m in \u001b[0;36m__init__\u001b[0;34m(self, io, **kwds)\u001b[0m\n\u001b[1;32m    351\u001b[0m         \u001b[0;32mtry\u001b[0m\u001b[0;34m:\u001b[0m\u001b[0;34m\u001b[0m\u001b[0;34m\u001b[0m\u001b[0m\n\u001b[0;32m--> 352\u001b[0;31m             \u001b[0;32mimport\u001b[0m \u001b[0mxlrd\u001b[0m\u001b[0;34m\u001b[0m\u001b[0;34m\u001b[0m\u001b[0m\n\u001b[0m\u001b[1;32m    353\u001b[0m         \u001b[0;32mexcept\u001b[0m \u001b[0mImportError\u001b[0m\u001b[0;34m:\u001b[0m\u001b[0;34m\u001b[0m\u001b[0;34m\u001b[0m\u001b[0m\n",
      "\u001b[0;31mModuleNotFoundError\u001b[0m: No module named 'xlrd'",
      "\nDuring handling of the above exception, another exception occurred:\n",
      "\u001b[0;31mImportError\u001b[0m                               Traceback (most recent call last)",
      "\u001b[0;32m<ipython-input-4-06c0e4f1d673>\u001b[0m in \u001b[0;36m<module>\u001b[0;34m()\u001b[0m\n\u001b[0;32m----> 1\u001b[0;31m \u001b[0mdatadict\u001b[0m \u001b[0;34m=\u001b[0m \u001b[0mpd\u001b[0m\u001b[0;34m.\u001b[0m\u001b[0mExcelFile\u001b[0m\u001b[0;34m(\u001b[0m\u001b[0;34m'../Simulacrum-data-dictionary.xlsx'\u001b[0m\u001b[0;34m)\u001b[0m\u001b[0;34m\u001b[0m\u001b[0;34m\u001b[0m\u001b[0m\n\u001b[0m\u001b[1;32m      2\u001b[0m \u001b[0msheets\u001b[0m \u001b[0;34m=\u001b[0m \u001b[0mdatadict\u001b[0m\u001b[0;34m.\u001b[0m\u001b[0msheet_names\u001b[0m\u001b[0;34m[\u001b[0m\u001b[0;36m1\u001b[0m\u001b[0;34m:\u001b[0m\u001b[0;34m]\u001b[0m\u001b[0;34m\u001b[0m\u001b[0;34m\u001b[0m\u001b[0m\n\u001b[1;32m      3\u001b[0m \u001b[0mDF\u001b[0m \u001b[0;34m=\u001b[0m \u001b[0mpd\u001b[0m\u001b[0;34m.\u001b[0m\u001b[0mDataFrame\u001b[0m\u001b[0;34m(\u001b[0m\u001b[0;34m)\u001b[0m\u001b[0;34m\u001b[0m\u001b[0;34m\u001b[0m\u001b[0m\n\u001b[1;32m      4\u001b[0m \u001b[0;32mfor\u001b[0m \u001b[0msheet\u001b[0m \u001b[0;32min\u001b[0m \u001b[0msheets\u001b[0m\u001b[0;34m:\u001b[0m\u001b[0;34m\u001b[0m\u001b[0;34m\u001b[0m\u001b[0m\n\u001b[1;32m      5\u001b[0m     \u001b[0mdf\u001b[0m \u001b[0;34m=\u001b[0m \u001b[0mpd\u001b[0m\u001b[0;34m.\u001b[0m\u001b[0mread_excel\u001b[0m\u001b[0;34m(\u001b[0m\u001b[0mdatadict\u001b[0m\u001b[0;34m,\u001b[0m\u001b[0msheet\u001b[0m\u001b[0;34m)\u001b[0m\u001b[0;34m\u001b[0m\u001b[0;34m\u001b[0m\u001b[0m\n",
      "\u001b[0;32m~/.local/lib/python3.6/site-packages/pandas/io/excel.py\u001b[0m in \u001b[0;36m__init__\u001b[0;34m(self, io, **kwds)\u001b[0m\n\u001b[1;32m    352\u001b[0m             \u001b[0;32mimport\u001b[0m \u001b[0mxlrd\u001b[0m\u001b[0;34m\u001b[0m\u001b[0;34m\u001b[0m\u001b[0m\n\u001b[1;32m    353\u001b[0m         \u001b[0;32mexcept\u001b[0m \u001b[0mImportError\u001b[0m\u001b[0;34m:\u001b[0m\u001b[0;34m\u001b[0m\u001b[0;34m\u001b[0m\u001b[0m\n\u001b[0;32m--> 354\u001b[0;31m             \u001b[0;32mraise\u001b[0m \u001b[0mImportError\u001b[0m\u001b[0;34m(\u001b[0m\u001b[0merr_msg\u001b[0m\u001b[0;34m)\u001b[0m\u001b[0;34m\u001b[0m\u001b[0;34m\u001b[0m\u001b[0m\n\u001b[0m\u001b[1;32m    355\u001b[0m         \u001b[0;32melse\u001b[0m\u001b[0;34m:\u001b[0m\u001b[0;34m\u001b[0m\u001b[0;34m\u001b[0m\u001b[0m\n\u001b[1;32m    356\u001b[0m             \u001b[0mver\u001b[0m \u001b[0;34m=\u001b[0m \u001b[0mtuple\u001b[0m\u001b[0;34m(\u001b[0m\u001b[0mmap\u001b[0m\u001b[0;34m(\u001b[0m\u001b[0mint\u001b[0m\u001b[0;34m,\u001b[0m \u001b[0mxlrd\u001b[0m\u001b[0;34m.\u001b[0m\u001b[0m__VERSION__\u001b[0m\u001b[0;34m.\u001b[0m\u001b[0msplit\u001b[0m\u001b[0;34m(\u001b[0m\u001b[0;34m\".\"\u001b[0m\u001b[0;34m)\u001b[0m\u001b[0;34m[\u001b[0m\u001b[0;34m:\u001b[0m\u001b[0;36m2\u001b[0m\u001b[0;34m]\u001b[0m\u001b[0;34m)\u001b[0m\u001b[0;34m)\u001b[0m\u001b[0;34m\u001b[0m\u001b[0;34m\u001b[0m\u001b[0m\n",
      "\u001b[0;31mImportError\u001b[0m: Install xlrd >= 0.9.0 for Excel support"
     ]
    }
   ],
   "source": [
    "datadict = pd.ExcelFile('../Simulacrum-data-dictionary.xlsx')\n",
    "sheets = datadict.sheet_names[1:]\n",
    "DF = pd.DataFrame()\n",
    "for sheet in sheets:\n",
    "    df = pd.read_excel(datadict,sheet)\n",
    "    df[sheet] = df['Field name']\n",
    "    DF = pd.concat([DF,df[sheet]], axis=1)\n",
    "\n",
    "DF"
   ]
  },
  {
   "cell_type": "markdown",
   "metadata": {},
   "source": [
    "# patient"
   ]
  },
  {
   "cell_type": "code",
   "execution_count": 6,
   "metadata": {
    "scrolled": true
   },
   "outputs": [
    {
     "data": {
      "text/html": [
       "<div>\n",
       "<style scoped>\n",
       "    .dataframe tbody tr th:only-of-type {\n",
       "        vertical-align: middle;\n",
       "    }\n",
       "\n",
       "    .dataframe tbody tr th {\n",
       "        vertical-align: top;\n",
       "    }\n",
       "\n",
       "    .dataframe thead th {\n",
       "        text-align: right;\n",
       "    }\n",
       "</style>\n",
       "<table border=\"1\" class=\"dataframe\">\n",
       "  <thead>\n",
       "    <tr style=\"text-align: right;\">\n",
       "      <th></th>\n",
       "      <th>PATIENTID</th>\n",
       "      <th>SEX</th>\n",
       "      <th>LINKNUMBER</th>\n",
       "      <th>ETHNICITY</th>\n",
       "      <th>DEATHCAUSECODE_1A</th>\n",
       "      <th>DEATHCAUSECODE_1B</th>\n",
       "      <th>DEATHCAUSECODE_1C</th>\n",
       "      <th>DEATHCAUSECODE_2</th>\n",
       "      <th>DEATHCAUSECODE_UNDERLYING</th>\n",
       "      <th>DEATHLOCATIONCODE</th>\n",
       "      <th>NEWVITALSTATUS</th>\n",
       "      <th>VITALSTATUSDATE</th>\n",
       "    </tr>\n",
       "  </thead>\n",
       "  <tbody>\n",
       "    <tr>\n",
       "      <th>0</th>\n",
       "      <td>10000001</td>\n",
       "      <td>2</td>\n",
       "      <td>810000001</td>\n",
       "      <td>A</td>\n",
       "      <td>NaN</td>\n",
       "      <td>NaN</td>\n",
       "      <td>NaN</td>\n",
       "      <td>NaN</td>\n",
       "      <td>NaN</td>\n",
       "      <td>NaN</td>\n",
       "      <td>A</td>\n",
       "      <td>2017-01-17</td>\n",
       "    </tr>\n",
       "    <tr>\n",
       "      <th>1</th>\n",
       "      <td>10000002</td>\n",
       "      <td>2</td>\n",
       "      <td>810000002</td>\n",
       "      <td>Z</td>\n",
       "      <td>NaN</td>\n",
       "      <td>NaN</td>\n",
       "      <td>NaN</td>\n",
       "      <td>NaN</td>\n",
       "      <td>NaN</td>\n",
       "      <td>NaN</td>\n",
       "      <td>A</td>\n",
       "      <td>2017-01-14</td>\n",
       "    </tr>\n",
       "    <tr>\n",
       "      <th>2</th>\n",
       "      <td>10000003</td>\n",
       "      <td>1</td>\n",
       "      <td>810000003</td>\n",
       "      <td>A</td>\n",
       "      <td>NaN</td>\n",
       "      <td>NaN</td>\n",
       "      <td>NaN</td>\n",
       "      <td>NaN</td>\n",
       "      <td>NaN</td>\n",
       "      <td>NaN</td>\n",
       "      <td>A</td>\n",
       "      <td>2017-01-17</td>\n",
       "    </tr>\n",
       "    <tr>\n",
       "      <th>3</th>\n",
       "      <td>10000004</td>\n",
       "      <td>1</td>\n",
       "      <td>810000004</td>\n",
       "      <td>A</td>\n",
       "      <td>NaN</td>\n",
       "      <td>NaN</td>\n",
       "      <td>NaN</td>\n",
       "      <td>NaN</td>\n",
       "      <td>NaN</td>\n",
       "      <td>NaN</td>\n",
       "      <td>A</td>\n",
       "      <td>2017-01-13</td>\n",
       "    </tr>\n",
       "    <tr>\n",
       "      <th>4</th>\n",
       "      <td>10000005</td>\n",
       "      <td>2</td>\n",
       "      <td>810000005</td>\n",
       "      <td>NaN</td>\n",
       "      <td>NaN</td>\n",
       "      <td>NaN</td>\n",
       "      <td>NaN</td>\n",
       "      <td>NaN</td>\n",
       "      <td>NaN</td>\n",
       "      <td>NaN</td>\n",
       "      <td>A</td>\n",
       "      <td>2017-01-16</td>\n",
       "    </tr>\n",
       "  </tbody>\n",
       "</table>\n",
       "</div>"
      ],
      "text/plain": [
       "   PATIENTID  SEX  LINKNUMBER ETHNICITY DEATHCAUSECODE_1A DEATHCAUSECODE_1B  \\\n",
       "0   10000001    2   810000001         A               NaN               NaN   \n",
       "1   10000002    2   810000002         Z               NaN               NaN   \n",
       "2   10000003    1   810000003         A               NaN               NaN   \n",
       "3   10000004    1   810000004         A               NaN               NaN   \n",
       "4   10000005    2   810000005       NaN               NaN               NaN   \n",
       "\n",
       "  DEATHCAUSECODE_1C DEATHCAUSECODE_2 DEATHCAUSECODE_UNDERLYING  \\\n",
       "0               NaN              NaN                       NaN   \n",
       "1               NaN              NaN                       NaN   \n",
       "2               NaN              NaN                       NaN   \n",
       "3               NaN              NaN                       NaN   \n",
       "4               NaN              NaN                       NaN   \n",
       "\n",
       "  DEATHLOCATIONCODE NEWVITALSTATUS VITALSTATUSDATE  \n",
       "0               NaN              A      2017-01-17  \n",
       "1               NaN              A      2017-01-14  \n",
       "2               NaN              A      2017-01-17  \n",
       "3               NaN              A      2017-01-13  \n",
       "4               NaN              A      2017-01-16  "
      ]
     },
     "metadata": {},
     "output_type": "display_data"
    }
   ],
   "source": [
    "av_patient = pd.read_csv('../simulacrum_release_v1.1.0/sim_av_patient.csv')\n",
    "display(av_patient.head())"
   ]
  },
  {
   "cell_type": "markdown",
   "metadata": {},
   "source": [
    "frequency of each death cause:"
   ]
  },
  {
   "cell_type": "code",
   "execution_count": 7,
   "metadata": {},
   "outputs": [
    {
     "data": {
      "text/plain": [
       "[Text(0, 0, 'deathcause')]"
      ]
     },
     "execution_count": 7,
     "metadata": {},
     "output_type": "execute_result"
    },
    {
     "data": {
      "image/png": "[encoded data removed]",
      "text/plain": [
       "<Figure size 432x288 with 1 Axes>"
      ]
     },
     "metadata": {},
     "output_type": "display_data"
    }
   ],
   "source": [
    "vc = av_patient['DEATHCAUSECODE_UNDERLYING'].value_counts()\n",
    "ax = pd.DataFrame(vc).T.plot.bar(stacked=True)\n",
    "ax.legend(vc.keys()[0:14]);\n",
    "ax.set_xticklabels(labels=['deathcause'],rotation=0)"
   ]
  },
  {
   "cell_type": "markdown",
   "metadata": {},
   "source": [
    "# tumour"
   ]
  },
  {
   "cell_type": "code",
   "execution_count": 9,
   "metadata": {},
   "outputs": [
    {
     "data": {
      "text/html": [
       "<div>\n",
       "<style scoped>\n",
       "    .dataframe tbody tr th:only-of-type {\n",
       "        vertical-align: middle;\n",
       "    }\n",
       "\n",
       "    .dataframe tbody tr th {\n",
       "        vertical-align: top;\n",
       "    }\n",
       "\n",
       "    .dataframe thead th {\n",
       "        text-align: right;\n",
       "    }\n",
       "</style>\n",
       "<table border=\"1\" class=\"dataframe\">\n",
       "  <thead>\n",
       "    <tr style=\"text-align: right;\">\n",
       "      <th></th>\n",
       "      <th>TUMOURID</th>\n",
       "      <th>PATIENTID</th>\n",
       "      <th>DIAGNOSISDATEBEST</th>\n",
       "      <th>SITE_ICD10_O2</th>\n",
       "      <th>SITE_ICD10_O2_3CHAR</th>\n",
       "      <th>MORPH_ICD10_O2</th>\n",
       "      <th>BEHAVIOUR_ICD10_O2</th>\n",
       "      <th>T_BEST</th>\n",
       "      <th>N_BEST</th>\n",
       "      <th>M_BEST</th>\n",
       "      <th>...</th>\n",
       "      <th>PERFORMANCESTATUS</th>\n",
       "      <th>CNS</th>\n",
       "      <th>ACE27</th>\n",
       "      <th>GLEASON_PRIMARY</th>\n",
       "      <th>GLEASON_SECONDARY</th>\n",
       "      <th>GLEASON_TERTIARY</th>\n",
       "      <th>GLEASON_COMBINED</th>\n",
       "      <th>DATE_FIRST_SURGERY</th>\n",
       "      <th>LATERALITY</th>\n",
       "      <th>QUINTILE_2015</th>\n",
       "    </tr>\n",
       "  </thead>\n",
       "  <tbody>\n",
       "    <tr>\n",
       "      <th>0</th>\n",
       "      <td>10000001</td>\n",
       "      <td>10000001</td>\n",
       "      <td>2015-11-06</td>\n",
       "      <td>C443</td>\n",
       "      <td>C44</td>\n",
       "      <td>8090</td>\n",
       "      <td>3</td>\n",
       "      <td>NaN</td>\n",
       "      <td>NaN</td>\n",
       "      <td>NaN</td>\n",
       "      <td>...</td>\n",
       "      <td>NaN</td>\n",
       "      <td>NaN</td>\n",
       "      <td>NaN</td>\n",
       "      <td>NaN</td>\n",
       "      <td>NaN</td>\n",
       "      <td>NaN</td>\n",
       "      <td>NaN</td>\n",
       "      <td>2015-11-06</td>\n",
       "      <td>L</td>\n",
       "      <td>3</td>\n",
       "    </tr>\n",
       "    <tr>\n",
       "      <th>1</th>\n",
       "      <td>10000002</td>\n",
       "      <td>10000002</td>\n",
       "      <td>2015-10-06</td>\n",
       "      <td>C449</td>\n",
       "      <td>C44</td>\n",
       "      <td>8090</td>\n",
       "      <td>3</td>\n",
       "      <td>NaN</td>\n",
       "      <td>NaN</td>\n",
       "      <td>NaN</td>\n",
       "      <td>...</td>\n",
       "      <td>NaN</td>\n",
       "      <td>NaN</td>\n",
       "      <td>NaN</td>\n",
       "      <td>NaN</td>\n",
       "      <td>NaN</td>\n",
       "      <td>NaN</td>\n",
       "      <td>NaN</td>\n",
       "      <td>2015-10-06</td>\n",
       "      <td>8</td>\n",
       "      <td>2</td>\n",
       "    </tr>\n",
       "    <tr>\n",
       "      <th>2</th>\n",
       "      <td>10000003</td>\n",
       "      <td>10000003</td>\n",
       "      <td>2013-01-30</td>\n",
       "      <td>C449</td>\n",
       "      <td>C44</td>\n",
       "      <td>8090</td>\n",
       "      <td>3</td>\n",
       "      <td>NaN</td>\n",
       "      <td>NaN</td>\n",
       "      <td>NaN</td>\n",
       "      <td>...</td>\n",
       "      <td>NaN</td>\n",
       "      <td>NaN</td>\n",
       "      <td>NaN</td>\n",
       "      <td>NaN</td>\n",
       "      <td>NaN</td>\n",
       "      <td>NaN</td>\n",
       "      <td>NaN</td>\n",
       "      <td>NaN</td>\n",
       "      <td>8</td>\n",
       "      <td>1 - least deprived</td>\n",
       "    </tr>\n",
       "    <tr>\n",
       "      <th>3</th>\n",
       "      <td>10000004</td>\n",
       "      <td>10000004</td>\n",
       "      <td>2015-09-15</td>\n",
       "      <td>C449</td>\n",
       "      <td>C44</td>\n",
       "      <td>8090</td>\n",
       "      <td>3</td>\n",
       "      <td>NaN</td>\n",
       "      <td>NaN</td>\n",
       "      <td>NaN</td>\n",
       "      <td>...</td>\n",
       "      <td>NaN</td>\n",
       "      <td>NaN</td>\n",
       "      <td>NaN</td>\n",
       "      <td>NaN</td>\n",
       "      <td>NaN</td>\n",
       "      <td>NaN</td>\n",
       "      <td>NaN</td>\n",
       "      <td>NaN</td>\n",
       "      <td>8</td>\n",
       "      <td>2</td>\n",
       "    </tr>\n",
       "    <tr>\n",
       "      <th>4</th>\n",
       "      <td>10000005</td>\n",
       "      <td>10000005</td>\n",
       "      <td>2014-11-01</td>\n",
       "      <td>C449</td>\n",
       "      <td>C44</td>\n",
       "      <td>8090</td>\n",
       "      <td>3</td>\n",
       "      <td>NaN</td>\n",
       "      <td>NaN</td>\n",
       "      <td>NaN</td>\n",
       "      <td>...</td>\n",
       "      <td>NaN</td>\n",
       "      <td>NaN</td>\n",
       "      <td>NaN</td>\n",
       "      <td>NaN</td>\n",
       "      <td>NaN</td>\n",
       "      <td>NaN</td>\n",
       "      <td>NaN</td>\n",
       "      <td>2014-11-01</td>\n",
       "      <td>8</td>\n",
       "      <td>2</td>\n",
       "    </tr>\n",
       "  </tbody>\n",
       "</table>\n",
       "<p>5 rows × 34 columns</p>\n",
       "</div>"
      ],
      "text/plain": [
       "   TUMOURID  PATIENTID DIAGNOSISDATEBEST SITE_ICD10_O2 SITE_ICD10_O2_3CHAR  \\\n",
       "0  10000001   10000001        2015-11-06          C443                 C44   \n",
       "1  10000002   10000002        2015-10-06          C449                 C44   \n",
       "2  10000003   10000003        2013-01-30          C449                 C44   \n",
       "3  10000004   10000004        2015-09-15          C449                 C44   \n",
       "4  10000005   10000005        2014-11-01          C449                 C44   \n",
       "\n",
       "  MORPH_ICD10_O2 BEHAVIOUR_ICD10_O2 T_BEST N_BEST M_BEST         ...          \\\n",
       "0           8090                  3    NaN    NaN    NaN         ...           \n",
       "1           8090                  3    NaN    NaN    NaN         ...           \n",
       "2           8090                  3    NaN    NaN    NaN         ...           \n",
       "3           8090                  3    NaN    NaN    NaN         ...           \n",
       "4           8090                  3    NaN    NaN    NaN         ...           \n",
       "\n",
       "  PERFORMANCESTATUS  CNS ACE27  GLEASON_PRIMARY  GLEASON_SECONDARY  \\\n",
       "0               NaN  NaN   NaN              NaN                NaN   \n",
       "1               NaN  NaN   NaN              NaN                NaN   \n",
       "2               NaN  NaN   NaN              NaN                NaN   \n",
       "3               NaN  NaN   NaN              NaN                NaN   \n",
       "4               NaN  NaN   NaN              NaN                NaN   \n",
       "\n",
       "  GLEASON_TERTIARY  GLEASON_COMBINED DATE_FIRST_SURGERY LATERALITY  \\\n",
       "0              NaN               NaN         2015-11-06          L   \n",
       "1              NaN               NaN         2015-10-06          8   \n",
       "2              NaN               NaN                NaN          8   \n",
       "3              NaN               NaN                NaN          8   \n",
       "4              NaN               NaN         2014-11-01          8   \n",
       "\n",
       "        QUINTILE_2015  \n",
       "0                   3  \n",
       "1                   2  \n",
       "2  1 - least deprived  \n",
       "3                   2  \n",
       "4                   2  \n",
       "\n",
       "[5 rows x 34 columns]"
      ]
     },
     "metadata": {},
     "output_type": "display_data"
    },
    {
     "name": "stdout",
     "output_type": "stream",
     "text": [
      "(1402817, 34)\n"
     ]
    }
   ],
   "source": [
    "av_tumour = pd.read_csv('../simulacrum_release_v1.1.0/sim_av_tumour.csv',low_memory=False)\n",
    "display(av_tumour.head())\n",
    "print(av_tumour.shape)"
   ]
  },
  {
   "cell_type": "markdown",
   "metadata": {},
   "source": [
    "Making some bar plots of the tumour features, colour coded with the tumour site:"
   ]
  },
  {
   "cell_type": "code",
   "execution_count": 10,
   "metadata": {},
   "outputs": [
    {
     "data": {
      "text/plain": [
       "C44    350130\n",
       "C50    133907\n",
       "C61    119347\n",
       "C34    102350\n",
       "D06     76678\n",
       "C18     65825\n",
       "C43     38155\n",
       "C20     27163\n",
       "C64     26195\n",
       "D09     25193\n",
       "C67     24643\n",
       "C54     21849\n",
       "C25     21344\n",
       "C15     20996\n",
       "D05     19777\n",
       "C83     18264\n",
       "D03     17123\n",
       "C56     16939\n",
       "C16     15298\n",
       "C90     13504\n",
       "Name: SITE_ICD10_O2_3CHAR, dtype: int64"
      ]
     },
     "execution_count": 10,
     "metadata": {},
     "output_type": "execute_result"
    }
   ],
   "source": [
    "tumour_features = av_tumour[['SITE_ICD10_O2_3CHAR', 'BEHAVIOUR_ICD10_O2', 'T_BEST',\n",
    "                            'N_BEST', 'M_BEST', 'STAGE_BEST', 'STAGE_BEST_SYSTEM', 'GRADE', 'AGE',\n",
    "                            'CANCERCAREPLANINTENT', 'PERFORMANCESTATUS', 'ACE27','LATERALITY']]\n",
    "vc = av_tumour['SITE_ICD10_O2_3CHAR'].value_counts()\n",
    "vc[:20] #top20tumoursites"
   ]
  },
  {
   "cell_type": "markdown",
   "metadata": {},
   "source": [
    "The colours in these plots are the site of the tumour, the legend only shows the top 20 sites"
   ]
  },
  {
   "cell_type": "code",
   "execution_count": null,
   "metadata": {
    "scrolled": false
   },
   "outputs": [],
   "source": [
    "tf_keys = list(tumour_features.keys())\n",
    "tf_keys.remove('SITE_ICD10_O2_3CHAR')\n",
    "fig, axes = plt.subplots(nrows=len(tf_keys), ncols=1, figsize=(10,4*len(tf_keys)))\n",
    "fig.tight_layout()\n",
    "for i,col in enumerate(tf_keys):\n",
    "    \n",
    "    feature = tumour_features[['SITE_ICD10_O2_3CHAR',col]] \\\n",
    "                        .groupby([col, 'SITE_ICD10_O2_3CHAR']) \\\n",
    "                        .agg({'SITE_ICD10_O2_3CHAR':'size'}) \\\n",
    "                        .rename(columns={'SITE_ICD10_O2_3CHAR':'site count'}) \\\n",
    "                        .reset_index()\n",
    "    feature = feature.pivot(index=col, columns='SITE_ICD10_O2_3CHAR')['site count']\n",
    "    ax = feature.plot(kind='bar', stacked=True, ax=axes[i])\n",
    "    handles, labels = ax.get_legend_handles_labels()\n",
    "    top20index = [labels.index(v) for v in vc[:20].keys()]\n",
    "    top20handles = [handles[i] for i in top20index]\n",
    "    ax.legend(top20handles, vc[:20].keys(),loc='best', bbox_to_anchor=(0.62, 0.7, 0.5, 0.5),prop={'size':9})\n",
    "    ax.set_ylabel('counts')\n",
    "plt.subplots_adjust(hspace=0.5)"
   ]
  },
  {
   "cell_type": "markdown",
   "metadata": {},
   "source": [
    "# merging\n",
    "\n",
    "av_tumour and av_patient"
   ]
  },
  {
   "cell_type": "code",
   "execution_count": 54,
   "metadata": {},
   "outputs": [
    {
     "name": "stdout",
     "output_type": "stream",
     "text": [
      "(1402817, 34) (1322100, 12) (1402817, 45)\n"
     ]
    }
   ],
   "source": [
    "tumour_patient = pd.merge(av_tumour,av_patient,on='PATIENTID')\n",
    "print(av_tumour.shape,av_patient.shape,tumour_patient.shape) "
   ]
  },
  {
   "cell_type": "markdown",
   "metadata": {},
   "source": [
    "create column with days between date of vital status taken and date of diagnosis"
   ]
  },
  {
   "cell_type": "code",
   "execution_count": 55,
   "metadata": {
    "scrolled": true
   },
   "outputs": [
    {
     "name": "stdout",
     "output_type": "stream",
     "text": [
      "stats for days being alive\n"
     ]
    },
    {
     "data": {
      "text/plain": [
       "count    1.402784e+06\n",
       "mean     7.674820e+02\n",
       "std      4.079234e+02\n",
       "min      0.000000e+00\n",
       "25%      4.660000e+02\n",
       "50%      7.690000e+02\n",
       "75%      1.105000e+03\n",
       "max      1.484000e+03\n",
       "Name: VITAL - DIAGNOSIS (days), dtype: float64"
      ]
     },
     "execution_count": 55,
     "metadata": {},
     "output_type": "execute_result"
    }
   ],
   "source": [
    "from datetime import date\n",
    "\n",
    "diagnosis_dates = pd.to_datetime(tumour_patient['DIAGNOSISDATEBEST'])\n",
    "vitalstat_dates = pd.to_datetime(tumour_patient['VITALSTATUSDATE'])\n",
    "\n",
    "tumour_patient['VITAL - DIAGNOSIS (days)'] = vitalstat_dates - diagnosis_dates\n",
    "tumour_patient['VITAL - DIAGNOSIS (days)'] = [i.days for i in tumour_patient['VITAL - DIAGNOSIS (days)']]\n",
    "tumour_patient = tumour_patient[tumour_patient['VITAL - DIAGNOSIS (days)'] >= 0] #some have vital status in 1900\n",
    "\n",
    "print(\"stats for days being alive\")\n",
    "tumour_patient['VITAL - DIAGNOSIS (days)'].describe()"
   ]
  },
  {
   "cell_type": "markdown",
   "metadata": {},
   "source": [
    "plots of mean days alive from patients that died"
   ]
  },
  {
   "cell_type": "code",
   "execution_count": 56,
   "metadata": {},
   "outputs": [],
   "source": [
    "dead_patient = tumour_patient[tumour_patient['NEWVITALSTATUS'] == 'D']\n",
    "\n",
    "time_behav = dead_patient[dead_patient['BEHAVIOUR_ICD10_O2'] != 'XXX'].dropna(subset=['BEHAVIOUR_ICD10_O2'])\n",
    "time_behav['BEHAVIOUR_ICD10_O2'] = time_behav['BEHAVIOUR_ICD10_O2'].astype(int)\n",
    "time_behav['VITAL - DIAGNOSIS (days)'] = time_behav['VITAL - DIAGNOSIS (days)'].astype(float)\n",
    "mean_days_alive = time_behav[['SITE_ICD10_O2_3CHAR','BEHAVIOUR_ICD10_O2' , 'VITAL - DIAGNOSIS (days)']] \\\n",
    "                    .groupby(['SITE_ICD10_O2_3CHAR','BEHAVIOUR_ICD10_O2']) \\\n",
    "                    .agg({'SITE_ICD10_O2_3CHAR':'size', 'VITAL - DIAGNOSIS (days)':'mean'}) \\\n",
    "                    .rename(columns={'SITE_ICD10_O2_3CHAR':'site count','VITAL - DIAGNOSIS (days)':'mean days alive'}) \\\n",
    "                    .reset_index()"
   ]
  },
  {
   "cell_type": "code",
   "execution_count": 158,
   "metadata": {},
   "outputs": [
    {
     "data": {
      "image/png": "[encoded data removed]",
      "text/plain": [
       "<Figure size 511x360 with 1 Axes>"
      ]
     },
     "metadata": {
      "needs_background": "light"
     },
     "output_type": "display_data"
    }
   ],
   "source": [
    "p = sns.relplot(x=\"BEHAVIOUR_ICD10_O2\", y=\"mean days alive\", hue=\"SITE_ICD10_O2_3CHAR\", size=\"site count\",\n",
    "            sizes=(10, 1000), alpha=.7, palette=\"bright\",\n",
    "            height=5, data=mean_days_alive)\n",
    "handles, labels = p.ax.get_legend_handles_labels()\n",
    "top20index = [labels.index(v) for v in vc[:20].keys()]\n",
    "top20handles = [handles[i] for i in top20index]\n",
    "p.ax.legend(top20handles, vc[:20].keys(),loc='right', bbox_to_anchor=(0.8, 0.25, 0.5, 0.5),prop={'size':9})\n",
    "p._legend.remove()"
   ]
  },
  {
   "cell_type": "markdown",
   "metadata": {},
   "source": [
    "Different colors mean different tumour sites\n",
    "\n",
    "The sizes of the blobs represent the number of people who have that tumour\n",
    "\n",
    "There isn't a clear correlation between the time alive and the behaviour of the tumour(how bad the tumour is)"
   ]
  },
  {
   "cell_type": "markdown",
   "metadata": {},
   "source": [
    "# sact_cycle"
   ]
  },
  {
   "cell_type": "code",
   "execution_count": 27,
   "metadata": {},
   "outputs": [
    {
     "name": "stderr",
     "output_type": "stream",
     "text": [
      "/Users/jeremyocampo/anaconda3/lib/python3.7/site-packages/IPython/core/interactiveshell.py:2785: DtypeWarning: Columns (5) have mixed types. Specify dtype option on import or set low_memory=False.\n",
      "  interactivity=interactivity, compiler=compiler, result=result)\n"
     ]
    },
    {
     "data": {
      "text/html": [
       "<div>\n",
       "<style scoped>\n",
       "    .dataframe tbody tr th:only-of-type {\n",
       "        vertical-align: middle;\n",
       "    }\n",
       "\n",
       "    .dataframe tbody tr th {\n",
       "        vertical-align: top;\n",
       "    }\n",
       "\n",
       "    .dataframe thead th {\n",
       "        text-align: right;\n",
       "    }\n",
       "</style>\n",
       "<table border=\"1\" class=\"dataframe\">\n",
       "  <thead>\n",
       "    <tr style=\"text-align: right;\">\n",
       "      <th></th>\n",
       "      <th>MERGED_CYCLE_ID</th>\n",
       "      <th>MERGED_REGIMEN_ID</th>\n",
       "      <th>CYCLE_NUMBER</th>\n",
       "      <th>START_DATE_OF_CYCLE</th>\n",
       "      <th>OPCS_PROCUREMENT_CODE</th>\n",
       "      <th>PERF_STATUS_START_OF_CYCLE</th>\n",
       "      <th>MERGED_PATIENT_ID</th>\n",
       "      <th>MERGED_TUMOUR_ID</th>\n",
       "    </tr>\n",
       "  </thead>\n",
       "  <tbody>\n",
       "    <tr>\n",
       "      <th>0</th>\n",
       "      <td>10000001</td>\n",
       "      <td>10000001</td>\n",
       "      <td>4</td>\n",
       "      <td>2015-06-07</td>\n",
       "      <td>NaN</td>\n",
       "      <td>NaN</td>\n",
       "      <td>10000235</td>\n",
       "      <td>10000001</td>\n",
       "    </tr>\n",
       "    <tr>\n",
       "      <th>1</th>\n",
       "      <td>10000002</td>\n",
       "      <td>10000002</td>\n",
       "      <td>2</td>\n",
       "      <td>2016-08-07</td>\n",
       "      <td>NaN</td>\n",
       "      <td>00</td>\n",
       "      <td>10000315</td>\n",
       "      <td>10000002</td>\n",
       "    </tr>\n",
       "    <tr>\n",
       "      <th>2</th>\n",
       "      <td>10000003</td>\n",
       "      <td>10000003</td>\n",
       "      <td>3</td>\n",
       "      <td>NaN</td>\n",
       "      <td>X715</td>\n",
       "      <td>NaN</td>\n",
       "      <td>10000337</td>\n",
       "      <td>10000003</td>\n",
       "    </tr>\n",
       "    <tr>\n",
       "      <th>3</th>\n",
       "      <td>10000004</td>\n",
       "      <td>10000004</td>\n",
       "      <td>2</td>\n",
       "      <td>2015-03-23</td>\n",
       "      <td>X712</td>\n",
       "      <td>0</td>\n",
       "      <td>10000480</td>\n",
       "      <td>10000004</td>\n",
       "    </tr>\n",
       "    <tr>\n",
       "      <th>4</th>\n",
       "      <td>10000005</td>\n",
       "      <td>10000005</td>\n",
       "      <td>1</td>\n",
       "      <td>2013-03-11</td>\n",
       "      <td>X711</td>\n",
       "      <td>NaN</td>\n",
       "      <td>10000533</td>\n",
       "      <td>10000005</td>\n",
       "    </tr>\n",
       "  </tbody>\n",
       "</table>\n",
       "</div>"
      ],
      "text/plain": [
       "   MERGED_CYCLE_ID  MERGED_REGIMEN_ID  CYCLE_NUMBER START_DATE_OF_CYCLE  \\\n",
       "0         10000001           10000001             4          2015-06-07   \n",
       "1         10000002           10000002             2          2016-08-07   \n",
       "2         10000003           10000003             3                 NaN   \n",
       "3         10000004           10000004             2          2015-03-23   \n",
       "4         10000005           10000005             1          2013-03-11   \n",
       "\n",
       "  OPCS_PROCUREMENT_CODE PERF_STATUS_START_OF_CYCLE  MERGED_PATIENT_ID  \\\n",
       "0                   NaN                        NaN           10000235   \n",
       "1                   NaN                         00           10000315   \n",
       "2                  X715                        NaN           10000337   \n",
       "3                  X712                          0           10000480   \n",
       "4                  X711                        NaN           10000533   \n",
       "\n",
       "   MERGED_TUMOUR_ID  \n",
       "0          10000001  \n",
       "1          10000002  \n",
       "2          10000003  \n",
       "3          10000004  \n",
       "4          10000005  "
      ]
     },
     "execution_count": 27,
     "metadata": {},
     "output_type": "execute_result"
    }
   ],
   "source": [
    "sact_cycle = pd.read_csv('simulacrum_release_v1.1.0/sim_sact_cycle.csv')\n",
    "sact_cycle.head()"
   ]
  },
  {
   "cell_type": "code",
   "execution_count": 28,
   "metadata": {},
   "outputs": [
    {
     "name": "stdout",
     "output_type": "stream",
     "text": [
      "shape  (1462099, 8)\n",
      "MERGED_CYCLE_ID   [10000001 10000002 10000003 10000004 10000005 10000006]\n",
      "MERGED_REGIMEN_ID   [10000001 10000002 10000003 10000004 10000005 10000006]\n",
      "CYCLE_NUMBER   [ 4  2  3  1  5 11]\n",
      "START_DATE_OF_CYCLE   ['2015-06-07' '2016-08-07' nan '2015-03-23' '2013-03-11' '2012-06-29']\n",
      "OPCS_PROCUREMENT_CODE   [nan 'X715' 'X712' 'X711' 'X713' 'X702']\n",
      "PERF_STATUS_START_OF_CYCLE   [nan '00' '0' '1' '-1' '2']\n",
      "MERGED_PATIENT_ID   [10000235 10000315 10000337 10000480 10000533 10000697]\n",
      "MERGED_TUMOUR_ID   [10000001 10000002 10000003 10000004 10000005 10000006]\n"
     ]
    }
   ],
   "source": [
    "print('shape ',sact_cycle.shape)\n",
    "\n",
    "for col in list(sact_cycle.columns):\n",
    "    print(col,\" \",sact_cycle[col].unique()[0:6])"
   ]
  },
  {
   "cell_type": "markdown",
   "metadata": {},
   "source": [
    "# drug_detail"
   ]
  },
  {
   "cell_type": "code",
   "execution_count": 30,
   "metadata": {},
   "outputs": [
    {
     "data": {
      "text/html": [
       "<div>\n",
       "<style scoped>\n",
       "    .dataframe tbody tr th:only-of-type {\n",
       "        vertical-align: middle;\n",
       "    }\n",
       "\n",
       "    .dataframe tbody tr th {\n",
       "        vertical-align: top;\n",
       "    }\n",
       "\n",
       "    .dataframe thead th {\n",
       "        text-align: right;\n",
       "    }\n",
       "</style>\n",
       "<table border=\"1\" class=\"dataframe\">\n",
       "  <thead>\n",
       "    <tr style=\"text-align: right;\">\n",
       "      <th></th>\n",
       "      <th>MERGED_DRUG_DETAIL_ID</th>\n",
       "      <th>MERGED_CYCLE_ID</th>\n",
       "      <th>ORG_CODE_OF_DRUG_PROVIDER</th>\n",
       "      <th>ACTUAL_DOSE_PER_ADMINISTRATION</th>\n",
       "      <th>OPCS_DELIVERY_CODE</th>\n",
       "      <th>ADMINISTRATION_ROUTE</th>\n",
       "      <th>ADMINISTRATION_DATE</th>\n",
       "      <th>DRUG_GROUP</th>\n",
       "      <th>MERGED_PATIENT_ID</th>\n",
       "      <th>MERGED_TUMOUR_ID</th>\n",
       "      <th>MERGED_REGIMEN_ID</th>\n",
       "    </tr>\n",
       "  </thead>\n",
       "  <tbody>\n",
       "    <tr>\n",
       "      <th>0</th>\n",
       "      <td>10000001</td>\n",
       "      <td>10000001</td>\n",
       "      <td>EKD02</td>\n",
       "      <td>10.0</td>\n",
       "      <td>NaN</td>\n",
       "      <td>1.0</td>\n",
       "      <td>2015-06-07</td>\n",
       "      <td>STEROID</td>\n",
       "      <td>10000235</td>\n",
       "      <td>10000001</td>\n",
       "      <td>10000001</td>\n",
       "    </tr>\n",
       "    <tr>\n",
       "      <th>1</th>\n",
       "      <td>10000002</td>\n",
       "      <td>10000002</td>\n",
       "      <td>EGU02</td>\n",
       "      <td>30.0</td>\n",
       "      <td>NaN</td>\n",
       "      <td>2.0</td>\n",
       "      <td>NaN</td>\n",
       "      <td>NOT CHEMO</td>\n",
       "      <td>10000315</td>\n",
       "      <td>10000002</td>\n",
       "      <td>10000002</td>\n",
       "    </tr>\n",
       "    <tr>\n",
       "      <th>2</th>\n",
       "      <td>10000003</td>\n",
       "      <td>10000003</td>\n",
       "      <td>EGU05</td>\n",
       "      <td>1000.0</td>\n",
       "      <td>NaN</td>\n",
       "      <td>1.0</td>\n",
       "      <td>NaN</td>\n",
       "      <td>RITUXIMAB</td>\n",
       "      <td>10000337</td>\n",
       "      <td>10000003</td>\n",
       "      <td>10000003</td>\n",
       "    </tr>\n",
       "    <tr>\n",
       "      <th>3</th>\n",
       "      <td>10000004</td>\n",
       "      <td>10000004</td>\n",
       "      <td>EXO</td>\n",
       "      <td>8.0</td>\n",
       "      <td>X723</td>\n",
       "      <td>2.0</td>\n",
       "      <td>2015-03-23</td>\n",
       "      <td>NOT CHEMO</td>\n",
       "      <td>10000480</td>\n",
       "      <td>10000004</td>\n",
       "      <td>10000004</td>\n",
       "    </tr>\n",
       "    <tr>\n",
       "      <th>4</th>\n",
       "      <td>10000005</td>\n",
       "      <td>10000005</td>\n",
       "      <td>ETD02</td>\n",
       "      <td>1000.0</td>\n",
       "      <td>NaN</td>\n",
       "      <td>2.0</td>\n",
       "      <td>2013-03-11</td>\n",
       "      <td>NOT CHEMO</td>\n",
       "      <td>10000533</td>\n",
       "      <td>10000005</td>\n",
       "      <td>10000005</td>\n",
       "    </tr>\n",
       "  </tbody>\n",
       "</table>\n",
       "</div>"
      ],
      "text/plain": [
       "   MERGED_DRUG_DETAIL_ID  MERGED_CYCLE_ID ORG_CODE_OF_DRUG_PROVIDER  \\\n",
       "0               10000001         10000001                     EKD02   \n",
       "1               10000002         10000002                     EGU02   \n",
       "2               10000003         10000003                     EGU05   \n",
       "3               10000004         10000004                       EXO   \n",
       "4               10000005         10000005                     ETD02   \n",
       "\n",
       "   ACTUAL_DOSE_PER_ADMINISTRATION OPCS_DELIVERY_CODE  ADMINISTRATION_ROUTE  \\\n",
       "0                            10.0                NaN                   1.0   \n",
       "1                            30.0                NaN                   2.0   \n",
       "2                          1000.0                NaN                   1.0   \n",
       "3                             8.0               X723                   2.0   \n",
       "4                          1000.0                NaN                   2.0   \n",
       "\n",
       "  ADMINISTRATION_DATE DRUG_GROUP  MERGED_PATIENT_ID  MERGED_TUMOUR_ID  \\\n",
       "0          2015-06-07    STEROID           10000235          10000001   \n",
       "1                 NaN  NOT CHEMO           10000315          10000002   \n",
       "2                 NaN  RITUXIMAB           10000337          10000003   \n",
       "3          2015-03-23  NOT CHEMO           10000480          10000004   \n",
       "4          2013-03-11  NOT CHEMO           10000533          10000005   \n",
       "\n",
       "   MERGED_REGIMEN_ID  \n",
       "0           10000001  \n",
       "1           10000002  \n",
       "2           10000003  \n",
       "3           10000004  \n",
       "4           10000005  "
      ]
     },
     "execution_count": 30,
     "metadata": {},
     "output_type": "execute_result"
    }
   ],
   "source": [
    "drug_detail = pd.read_csv('simulacrum_release_v1.1.0/sim_sact_drug_detail.csv')\n",
    "drug_detail.head()"
   ]
  },
  {
   "cell_type": "code",
   "execution_count": 31,
   "metadata": {},
   "outputs": [
    {
     "name": "stdout",
     "output_type": "stream",
     "text": [
      "shape  (3544584, 11)\n",
      "MERGED_DRUG_DETAIL_ID   [10000001 10000002 10000003 10000004 10000005 10000006]\n",
      "MERGED_CYCLE_ID   [10000001 10000002 10000003 10000004 10000005 10000007]\n",
      "ORG_CODE_OF_DRUG_PROVIDER   ['EKD02' 'EGU02' 'EGU05' 'EXO' 'ETD02' 'ETA42']\n",
      "ACTUAL_DOSE_PER_ADMINISTRATION   [  10.   30. 1000.    8.  300.  100.]\n",
      "OPCS_DELIVERY_CODE   [nan 'X723' 'X731' 'x723' 'X729' 'x721']\n",
      "ADMINISTRATION_ROUTE   [ 1.  2.  5. nan 99.  4.]\n",
      "ADMINISTRATION_DATE   ['2015-06-07' nan '2015-03-23' '2013-03-11' '2014-07-25' '2012-12-07']\n",
      "DRUG_GROUP   ['STEROID' 'NOT CHEMO' 'RITUXIMAB' 'DOCETAXEL' 'PACLITAXEL' 'CARBOPLATIN']\n",
      "MERGED_PATIENT_ID   [10000235 10000315 10000337 10000480 10000533 10000697]\n",
      "MERGED_TUMOUR_ID   [10000001 10000002 10000003 10000004 10000005 10000006]\n",
      "MERGED_REGIMEN_ID   [10000001 10000002 10000003 10000004 10000005 10000007]\n"
     ]
    }
   ],
   "source": [
    "print('shape ',drug_detail.shape)\n",
    "\n",
    "for col in list(drug_detail.columns):\n",
    "    print(col,\" \",drug_detail[col].unique()[0:6])"
   ]
  },
  {
   "cell_type": "markdown",
   "metadata": {},
   "source": [
    "# outcome"
   ]
  },
  {
   "cell_type": "code",
   "execution_count": 33,
   "metadata": {},
   "outputs": [
    {
     "data": {
      "text/html": [
       "<div>\n",
       "<style scoped>\n",
       "    .dataframe tbody tr th:only-of-type {\n",
       "        vertical-align: middle;\n",
       "    }\n",
       "\n",
       "    .dataframe tbody tr th {\n",
       "        vertical-align: top;\n",
       "    }\n",
       "\n",
       "    .dataframe thead th {\n",
       "        text-align: right;\n",
       "    }\n",
       "</style>\n",
       "<table border=\"1\" class=\"dataframe\">\n",
       "  <thead>\n",
       "    <tr style=\"text-align: right;\">\n",
       "      <th></th>\n",
       "      <th>MERGED_OUTCOME_ID</th>\n",
       "      <th>MERGED_REGIMEN_ID</th>\n",
       "      <th>DATE_OF_FINAL_TREATMENT</th>\n",
       "      <th>REGIMEN_MOD_DOSE_REDUCTION</th>\n",
       "      <th>REGIMEN_MOD_TIME_DELAY</th>\n",
       "      <th>REGIMEN_MOD_STOPPED_EARLY</th>\n",
       "      <th>REGIMEN_OUTCOME_SUMMARY</th>\n",
       "      <th>MERGED_PATIENT_ID</th>\n",
       "      <th>MERGED_TUMOUR_ID</th>\n",
       "    </tr>\n",
       "  </thead>\n",
       "  <tbody>\n",
       "    <tr>\n",
       "      <th>0</th>\n",
       "      <td>10000001</td>\n",
       "      <td>10000003</td>\n",
       "      <td>2014-01-09</td>\n",
       "      <td>N</td>\n",
       "      <td>N</td>\n",
       "      <td>N</td>\n",
       "      <td>NaN</td>\n",
       "      <td>10000337</td>\n",
       "      <td>10000003</td>\n",
       "    </tr>\n",
       "    <tr>\n",
       "      <th>1</th>\n",
       "      <td>10000002</td>\n",
       "      <td>10000005</td>\n",
       "      <td>NaN</td>\n",
       "      <td>Y</td>\n",
       "      <td>Y</td>\n",
       "      <td>N</td>\n",
       "      <td>NaN</td>\n",
       "      <td>10000533</td>\n",
       "      <td>10000005</td>\n",
       "    </tr>\n",
       "    <tr>\n",
       "      <th>2</th>\n",
       "      <td>10000003</td>\n",
       "      <td>10000006</td>\n",
       "      <td>NaN</td>\n",
       "      <td>N</td>\n",
       "      <td>Y</td>\n",
       "      <td>N</td>\n",
       "      <td>NaN</td>\n",
       "      <td>10000697</td>\n",
       "      <td>10000006</td>\n",
       "    </tr>\n",
       "    <tr>\n",
       "      <th>3</th>\n",
       "      <td>10000004</td>\n",
       "      <td>10000007</td>\n",
       "      <td>NaN</td>\n",
       "      <td>Y</td>\n",
       "      <td>NaN</td>\n",
       "      <td>N</td>\n",
       "      <td>NaN</td>\n",
       "      <td>10000697</td>\n",
       "      <td>10000006</td>\n",
       "    </tr>\n",
       "    <tr>\n",
       "      <th>4</th>\n",
       "      <td>10000005</td>\n",
       "      <td>10000008</td>\n",
       "      <td>2012-12-07</td>\n",
       "      <td>NaN</td>\n",
       "      <td>NaN</td>\n",
       "      <td>NaN</td>\n",
       "      <td>NaN</td>\n",
       "      <td>10000773</td>\n",
       "      <td>10009036</td>\n",
       "    </tr>\n",
       "  </tbody>\n",
       "</table>\n",
       "</div>"
      ],
      "text/plain": [
       "   MERGED_OUTCOME_ID  MERGED_REGIMEN_ID DATE_OF_FINAL_TREATMENT  \\\n",
       "0           10000001           10000003              2014-01-09   \n",
       "1           10000002           10000005                     NaN   \n",
       "2           10000003           10000006                     NaN   \n",
       "3           10000004           10000007                     NaN   \n",
       "4           10000005           10000008              2012-12-07   \n",
       "\n",
       "  REGIMEN_MOD_DOSE_REDUCTION REGIMEN_MOD_TIME_DELAY REGIMEN_MOD_STOPPED_EARLY  \\\n",
       "0                          N                      N                         N   \n",
       "1                          Y                      Y                         N   \n",
       "2                          N                      Y                         N   \n",
       "3                          Y                    NaN                         N   \n",
       "4                        NaN                    NaN                       NaN   \n",
       "\n",
       "  REGIMEN_OUTCOME_SUMMARY  MERGED_PATIENT_ID  MERGED_TUMOUR_ID  \n",
       "0                     NaN           10000337          10000003  \n",
       "1                     NaN           10000533          10000005  \n",
       "2                     NaN           10000697          10000006  \n",
       "3                     NaN           10000697          10000006  \n",
       "4                     NaN           10000773          10009036  "
      ]
     },
     "execution_count": 33,
     "metadata": {},
     "output_type": "execute_result"
    }
   ],
   "source": [
    "outcome = pd.read_csv('simulacrum_release_v1.1.0/sim_sact_outcome.csv')\n",
    "outcome.head()"
   ]
  },
  {
   "cell_type": "code",
   "execution_count": 34,
   "metadata": {},
   "outputs": [
    {
     "name": "stdout",
     "output_type": "stream",
     "text": [
      "shape  (351668, 9)\n",
      "MERGED_OUTCOME_ID   [10000001 10000002 10000003 10000004 10000005 10000006]\n",
      "MERGED_REGIMEN_ID   [10000003 10000005 10000006 10000007 10000008 10000009]\n",
      "DATE_OF_FINAL_TREATMENT   ['2014-01-09' nan '2012-12-07' '2013-12-10' '2016-08-08' '2014-07-23']\n",
      "REGIMEN_MOD_DOSE_REDUCTION   ['N' 'Y' nan '0' 'n']\n",
      "REGIMEN_MOD_TIME_DELAY   ['N' 'Y' nan '3' '0' '5']\n",
      "REGIMEN_MOD_STOPPED_EARLY   ['N' nan 'Y' '0' '4' 'y']\n",
      "REGIMEN_OUTCOME_SUMMARY   [nan '0' '5' '4' '3' 'N']\n",
      "MERGED_PATIENT_ID   [10000337 10000533 10000697 10000773 10000966 10000997]\n",
      "MERGED_TUMOUR_ID   [10000003 10000005 10000006 10009036 10000007 10000008]\n"
     ]
    }
   ],
   "source": [
    "print('shape ',outcome.shape)\n",
    "\n",
    "for col in list(outcome.columns):\n",
    "    print(col,\" \",outcome[col].unique()[0:6])"
   ]
  },
  {
   "cell_type": "markdown",
   "metadata": {},
   "source": [
    "# sact_patient"
   ]
  },
  {
   "cell_type": "code",
   "execution_count": 27,
   "metadata": {},
   "outputs": [
    {
     "data": {
      "text/html": [
       "<div>\n",
       "<style scoped>\n",
       "    .dataframe tbody tr th:only-of-type {\n",
       "        vertical-align: middle;\n",
       "    }\n",
       "\n",
       "    .dataframe tbody tr th {\n",
       "        vertical-align: top;\n",
       "    }\n",
       "\n",
       "    .dataframe thead th {\n",
       "        text-align: right;\n",
       "    }\n",
       "</style>\n",
       "<table border=\"1\" class=\"dataframe\">\n",
       "  <thead>\n",
       "    <tr style=\"text-align: right;\">\n",
       "      <th></th>\n",
       "      <th>MERGED_PATIENT_ID</th>\n",
       "      <th>LINK_NUMBER</th>\n",
       "    </tr>\n",
       "  </thead>\n",
       "  <tbody>\n",
       "    <tr>\n",
       "      <th>0</th>\n",
       "      <td>10000087</td>\n",
       "      <td>810000087</td>\n",
       "    </tr>\n",
       "    <tr>\n",
       "      <th>1</th>\n",
       "      <td>10000235</td>\n",
       "      <td>810000235</td>\n",
       "    </tr>\n",
       "    <tr>\n",
       "      <th>2</th>\n",
       "      <td>10000283</td>\n",
       "      <td>810000283</td>\n",
       "    </tr>\n",
       "    <tr>\n",
       "      <th>3</th>\n",
       "      <td>10000315</td>\n",
       "      <td>810000315</td>\n",
       "    </tr>\n",
       "    <tr>\n",
       "      <th>4</th>\n",
       "      <td>10000337</td>\n",
       "      <td>810000337</td>\n",
       "    </tr>\n",
       "  </tbody>\n",
       "</table>\n",
       "</div>"
      ],
      "text/plain": [
       "   MERGED_PATIENT_ID  LINK_NUMBER\n",
       "0           10000087    810000087\n",
       "1           10000235    810000235\n",
       "2           10000283    810000283\n",
       "3           10000315    810000315\n",
       "4           10000337    810000337"
      ]
     },
     "execution_count": 27,
     "metadata": {},
     "output_type": "execute_result"
    }
   ],
   "source": [
    "sact_patient = pd.read_csv('simulacrum_release_v1.1.0/sim_sact_patient.csv')\n",
    "sact_patient.head()"
   ]
  },
  {
   "cell_type": "code",
   "execution_count": 36,
   "metadata": {},
   "outputs": [
    {
     "name": "stdout",
     "output_type": "stream",
     "text": [
      "shape  (245938, 2)\n",
      "MERGED_PATIENT_ID   [10000087 10000235 10000283 10000315 10000337 10000365]\n",
      "LINK_NUMBER   [810000087 810000235 810000283 810000315 810000337 810000365]\n"
     ]
    }
   ],
   "source": [
    "print('shape ',sact_patient.shape)\n",
    "\n",
    "for col in list(sact_patient.columns):\n",
    "    print(col,\" \",sact_patient[col].unique()[0:6])"
   ]
  },
  {
   "cell_type": "markdown",
   "metadata": {},
   "source": [
    "# sact_regimen\n",
    "\n",
    "https://stackoverflow.com/questions/18171739/unicodedecodeerror-when-reading-csv-file-in-pandas-with-python - loading sim_sact_regimen"
   ]
  },
  {
   "cell_type": "code",
   "execution_count": 53,
   "metadata": {
    "scrolled": true
   },
   "outputs": [
    {
     "data": {
      "text/html": [
       "<div>\n",
       "<style scoped>\n",
       "    .dataframe tbody tr th:only-of-type {\n",
       "        vertical-align: middle;\n",
       "    }\n",
       "\n",
       "    .dataframe tbody tr th {\n",
       "        vertical-align: top;\n",
       "    }\n",
       "\n",
       "    .dataframe thead th {\n",
       "        text-align: right;\n",
       "    }\n",
       "</style>\n",
       "<table border=\"1\" class=\"dataframe\">\n",
       "  <thead>\n",
       "    <tr style=\"text-align: right;\">\n",
       "      <th></th>\n",
       "      <th>MERGED_REGIMEN_ID</th>\n",
       "      <th>MERGED_TUMOUR_ID</th>\n",
       "      <th>HEIGHT_AT_START_OF_REGIMEN</th>\n",
       "      <th>WEIGHT_AT_START_OF_REGIMEN</th>\n",
       "      <th>INTENT_OF_TREATMENT</th>\n",
       "      <th>DATE_DECISION_TO_TREAT</th>\n",
       "      <th>START_DATE_OF_REGIMEN</th>\n",
       "      <th>MAPPED_REGIMEN</th>\n",
       "      <th>CLINICAL_TRIAL</th>\n",
       "      <th>CHEMO_RADIATION</th>\n",
       "      <th>MERGED_PATIENT_ID</th>\n",
       "      <th>BENCHMARK_GROUP</th>\n",
       "    </tr>\n",
       "  </thead>\n",
       "  <tbody>\n",
       "    <tr>\n",
       "      <th>0</th>\n",
       "      <td>10000001</td>\n",
       "      <td>10000001</td>\n",
       "      <td>-1.0</td>\n",
       "      <td>NaN</td>\n",
       "      <td>N</td>\n",
       "      <td>2015-03-08</td>\n",
       "      <td>2015-03-08</td>\n",
       "      <td>DEGARELIX</td>\n",
       "      <td>NaN</td>\n",
       "      <td>N</td>\n",
       "      <td>10000235</td>\n",
       "      <td>HORMONES</td>\n",
       "    </tr>\n",
       "    <tr>\n",
       "      <th>1</th>\n",
       "      <td>10000002</td>\n",
       "      <td>10000002</td>\n",
       "      <td>NaN</td>\n",
       "      <td>NaN</td>\n",
       "      <td>P</td>\n",
       "      <td>2016-07-09</td>\n",
       "      <td>2016-07-10</td>\n",
       "      <td>BICALUTAMIDE + GOSERELIN</td>\n",
       "      <td>NaN</td>\n",
       "      <td>N</td>\n",
       "      <td>10000315</td>\n",
       "      <td>HORMONES</td>\n",
       "    </tr>\n",
       "    <tr>\n",
       "      <th>2</th>\n",
       "      <td>10000003</td>\n",
       "      <td>10000003</td>\n",
       "      <td>NaN</td>\n",
       "      <td>NaN</td>\n",
       "      <td>P</td>\n",
       "      <td>2014-01-09</td>\n",
       "      <td>2014-01-09</td>\n",
       "      <td>EXEMESTANE</td>\n",
       "      <td>02</td>\n",
       "      <td>N</td>\n",
       "      <td>10000337</td>\n",
       "      <td>HORMONES</td>\n",
       "    </tr>\n",
       "    <tr>\n",
       "      <th>3</th>\n",
       "      <td>10000004</td>\n",
       "      <td>10000004</td>\n",
       "      <td>NaN</td>\n",
       "      <td>NaN</td>\n",
       "      <td>NaN</td>\n",
       "      <td>2015-03-17</td>\n",
       "      <td>2015-03-23</td>\n",
       "      <td>Rituximab</td>\n",
       "      <td>N</td>\n",
       "      <td>NaN</td>\n",
       "      <td>10000480</td>\n",
       "      <td>RITUXIMAB</td>\n",
       "    </tr>\n",
       "    <tr>\n",
       "      <th>4</th>\n",
       "      <td>10000005</td>\n",
       "      <td>10000005</td>\n",
       "      <td>0.0</td>\n",
       "      <td>NaN</td>\n",
       "      <td>C</td>\n",
       "      <td>2012-12-30</td>\n",
       "      <td>2013-03-11</td>\n",
       "      <td>Hydroxycarbamide</td>\n",
       "      <td>N</td>\n",
       "      <td>N</td>\n",
       "      <td>10000533</td>\n",
       "      <td>HYDROXYCARBAMIDE</td>\n",
       "    </tr>\n",
       "  </tbody>\n",
       "</table>\n",
       "</div>"
      ],
      "text/plain": [
       "   MERGED_REGIMEN_ID  MERGED_TUMOUR_ID  HEIGHT_AT_START_OF_REGIMEN  \\\n",
       "0           10000001          10000001                        -1.0   \n",
       "1           10000002          10000002                         NaN   \n",
       "2           10000003          10000003                         NaN   \n",
       "3           10000004          10000004                         NaN   \n",
       "4           10000005          10000005                         0.0   \n",
       "\n",
       "   WEIGHT_AT_START_OF_REGIMEN INTENT_OF_TREATMENT DATE_DECISION_TO_TREAT  \\\n",
       "0                         NaN                   N             2015-03-08   \n",
       "1                         NaN                   P             2016-07-09   \n",
       "2                         NaN                   P             2014-01-09   \n",
       "3                         NaN                 NaN             2015-03-17   \n",
       "4                         NaN                   C             2012-12-30   \n",
       "\n",
       "  START_DATE_OF_REGIMEN            MAPPED_REGIMEN CLINICAL_TRIAL  \\\n",
       "0            2015-03-08                 DEGARELIX            NaN   \n",
       "1            2016-07-10  BICALUTAMIDE + GOSERELIN            NaN   \n",
       "2            2014-01-09                EXEMESTANE             02   \n",
       "3            2015-03-23                 Rituximab              N   \n",
       "4            2013-03-11          Hydroxycarbamide              N   \n",
       "\n",
       "  CHEMO_RADIATION  MERGED_PATIENT_ID   BENCHMARK_GROUP  \n",
       "0               N           10000235          HORMONES  \n",
       "1               N           10000315          HORMONES  \n",
       "2               N           10000337          HORMONES  \n",
       "3             NaN           10000480         RITUXIMAB  \n",
       "4               N           10000533  HYDROXYCARBAMIDE  "
      ]
     },
     "execution_count": 53,
     "metadata": {},
     "output_type": "execute_result"
    }
   ],
   "source": [
    "sact_regimen = pd.read_csv('simulacrum_release_v1.1.0/sim_sact_regimen.csv',encoding=\"ISO-8859-1\")\n",
    "sact_regimen.head()"
   ]
  },
  {
   "cell_type": "code",
   "execution_count": 40,
   "metadata": {},
   "outputs": [
    {
     "data": {
      "text/plain": [
       "1"
      ]
     },
     "execution_count": 40,
     "metadata": {},
     "output_type": "execute_result"
    }
   ],
   "source": [
    "range(9)[1]"
   ]
  },
  {
   "cell_type": "markdown",
   "metadata": {},
   "source": [
    "# sact_tumour"
   ]
  },
  {
   "cell_type": "code",
   "execution_count": 37,
   "metadata": {},
   "outputs": [
    {
     "data": {
      "text/html": [
       "<div>\n",
       "<style scoped>\n",
       "    .dataframe tbody tr th:only-of-type {\n",
       "        vertical-align: middle;\n",
       "    }\n",
       "\n",
       "    .dataframe tbody tr th {\n",
       "        vertical-align: top;\n",
       "    }\n",
       "\n",
       "    .dataframe thead th {\n",
       "        text-align: right;\n",
       "    }\n",
       "</style>\n",
       "<table border=\"1\" class=\"dataframe\">\n",
       "  <thead>\n",
       "    <tr style=\"text-align: right;\">\n",
       "      <th></th>\n",
       "      <th>MERGED_TUMOUR_ID</th>\n",
       "      <th>MERGED_PATIENT_ID</th>\n",
       "      <th>CONSULTANT_SPECIALITY_CODE</th>\n",
       "      <th>PRIMARY_DIAGNOSIS</th>\n",
       "      <th>MORPHOLOGY_CLEAN</th>\n",
       "    </tr>\n",
       "  </thead>\n",
       "  <tbody>\n",
       "    <tr>\n",
       "      <th>0</th>\n",
       "      <td>10000001</td>\n",
       "      <td>10000235</td>\n",
       "      <td>101.0</td>\n",
       "      <td>C61</td>\n",
       "      <td>81403.0</td>\n",
       "    </tr>\n",
       "    <tr>\n",
       "      <th>1</th>\n",
       "      <td>10000002</td>\n",
       "      <td>10000315</td>\n",
       "      <td>101.0</td>\n",
       "      <td>C679</td>\n",
       "      <td>81403.0</td>\n",
       "    </tr>\n",
       "    <tr>\n",
       "      <th>2</th>\n",
       "      <td>10000003</td>\n",
       "      <td>10000337</td>\n",
       "      <td>100.0</td>\n",
       "      <td>C500</td>\n",
       "      <td>NaN</td>\n",
       "    </tr>\n",
       "    <tr>\n",
       "      <th>3</th>\n",
       "      <td>10000004</td>\n",
       "      <td>10000480</td>\n",
       "      <td>303.0</td>\n",
       "      <td>C829</td>\n",
       "      <td>NaN</td>\n",
       "    </tr>\n",
       "    <tr>\n",
       "      <th>4</th>\n",
       "      <td>10000005</td>\n",
       "      <td>10000533</td>\n",
       "      <td>823.0</td>\n",
       "      <td>D473</td>\n",
       "      <td>NaN</td>\n",
       "    </tr>\n",
       "  </tbody>\n",
       "</table>\n",
       "</div>"
      ],
      "text/plain": [
       "   MERGED_TUMOUR_ID  MERGED_PATIENT_ID  CONSULTANT_SPECIALITY_CODE  \\\n",
       "0          10000001           10000235                       101.0   \n",
       "1          10000002           10000315                       101.0   \n",
       "2          10000003           10000337                       100.0   \n",
       "3          10000004           10000480                       303.0   \n",
       "4          10000005           10000533                       823.0   \n",
       "\n",
       "  PRIMARY_DIAGNOSIS  MORPHOLOGY_CLEAN  \n",
       "0               C61           81403.0  \n",
       "1              C679           81403.0  \n",
       "2              C500               NaN  \n",
       "3              C829               NaN  \n",
       "4              D473               NaN  "
      ]
     },
     "execution_count": 37,
     "metadata": {},
     "output_type": "execute_result"
    }
   ],
   "source": [
    "sact_tumour = pd.read_csv('simulacrum_release_v1.1.0/sim_sact_tumour.csv')\n",
    "sact_regimen = pd.read_csv('simulacrum_release_v1.1.0/sim_sact_regimen.csv',encoding=\"ISO-8859-1\")\n",
    "sact_patient = pd.read_csv('simulacrum_release_v1.1.0/sim_sact_patient.csv')\n",
    "sact_tumour.head()"
   ]
  },
  {
   "cell_type": "code",
   "execution_count": 38,
   "metadata": {},
   "outputs": [
    {
     "name": "stdout",
     "output_type": "stream",
     "text": [
      "shape  (299727, 5)\n",
      "MERGED_TUMOUR_ID   [10000001 10000002 10000003 10000004 10000005 10000006]\n",
      "MERGED_PATIENT_ID   [10000235 10000315 10000337 10000480 10000533 10000697]\n",
      "CONSULTANT_SPECIALITY_CODE   [101. 100. 303. 823.   0. 800.]\n",
      "PRIMARY_DIAGNOSIS   ['C61' 'C679' 'C500' 'C829' 'D473' 'C833']\n",
      "MORPHOLOGY_CLEAN   [81403.    nan 96803. 99623. 85003. 99503.]\n"
     ]
    }
   ],
   "source": [
    "print('shape ',sact_tumour.shape)\n",
    "\n",
    "for col in list(sact_tumour.columns):\n",
    "    print(col,\" \",sact_tumour[col].unique()[0:6])"
   ]
  }
 ],
 "metadata": {
  "kernelspec": {
   "display_name": "Python 3",
   "language": "python",
   "name": "python3"
  },
  "language_info": {
   "codemirror_mode": {
    "name": "ipython",
    "version": 3
   },
   "file_extension": ".py",
   "mimetype": "text/x-python",
   "name": "python",
   "nbconvert_exporter": "python",
   "pygments_lexer": "ipython3",
   "version": "3.6.7"
  }
 },
 "nbformat": 4,
 "nbformat_minor": 2
}
