{
 "cells": [
  {
   "cell_type": "markdown",
   "metadata": {},
   "source": [
    "# Example SQL Queries"
   ]
  },
  {
   "cell_type": "markdown",
   "metadata": {},
   "source": [
    "This notebook will:\n",
    "- <a href='#load'>load the csv files into pandas dataframes</a>\n",
    "- <a href='#view'>view the first few rows of each dataframe</a> and column names and data types\n",
    "- <a href='#run'>run the example sql queries</a> from https://simulacrum.healthdatainsight.org.uk/query-examples/ then do the same thing but in native pandas commands"
   ]
  },
  {
   "cell_type": "markdown",
   "metadata": {},
   "source": [
    "<a id='load'></a>"
   ]
  },
  {
   "cell_type": "markdown",
   "metadata": {},
   "source": [
    "## Load csv files "
   ]
  },
  {
   "cell_type": "code",
   "execution_count": 1,
   "metadata": {},
   "outputs": [],
   "source": [
    "import pandas as pd\n",
    "import numpy as np\n",
    "import load"
   ]
  },
  {
   "cell_type": "code",
   "execution_count": 2,
   "metadata": {},
   "outputs": [],
   "source": [
    "SIM_AV_PATIENT = load.load_table('av_patient')\n",
    "SIM_AV_TUMOUR = load.load_table('av_tumour')\n",
    "SIM_SACT_CYCLE = load.load_table('sact_cycle')\n",
    "SIM_SACT_DRUG_DETAIL = load.load_table('sact_drug_detail')\n",
    "SIM_SACT_OUTCOME = load.load_table('sact_outcome')\n",
    "SIM_SACT_PATIENT = load.load_table('sact_patient')\n",
    "SIM_SACT_REGIMEN = load.load_table('sact_regimen')\n",
    "SIM_SACT_TUMOUR = load.load_table('sact_tumour')"
   ]
  },
  {
   "cell_type": "markdown",
   "metadata": {},
   "source": [
    "Alternatively:"
   ]
  },
  {
   "cell_type": "code",
   "execution_count": 3,
   "metadata": {},
   "outputs": [
    {
     "name": "stdout",
     "output_type": "stream",
     "text": [
      "dict_keys(['av_patient', 'av_tumour', 'sact_cycle', 'sact_drug_detail', 'sact_outcome', 'sact_patient', 'sact_regimen', 'sact_tumour'])\n"
     ]
    }
   ],
   "source": [
    "tables = load.all_tables()\n",
    "print(tables.keys())"
   ]
  },
  {
   "cell_type": "markdown",
   "metadata": {},
   "source": [
    "To include human-readable descriptions of all applicable codes, use 'add_descriptions=True' in load.load_table or load.all_tables. Descriptions can also be added later using the add_descriptions or get_descriptions functions from the descriptions module."
   ]
  },
  {
   "cell_type": "markdown",
   "metadata": {},
   "source": [
    "<a id='view'></a>"
   ]
  },
  {
   "cell_type": "markdown",
   "metadata": {},
   "source": [
    "## Show summary of dataframes"
   ]
  },
  {
   "cell_type": "code",
   "execution_count": 4,
   "metadata": {},
   "outputs": [],
   "source": [
    "def print_df_summary(df):\n",
    "    print(df.shape[0], 'rows')\n",
    "    print(df.shape[1], 'columns')\n",
    "    print()\n",
    "    print(df.dtypes)\n",
    "    return df.head()"
   ]
  },
  {
   "cell_type": "code",
   "execution_count": 5,
   "metadata": {},
   "outputs": [
    {
     "name": "stdout",
     "output_type": "stream",
     "text": [
      "1322100 rows\n",
      "12 columns\n",
      "\n",
      "PATIENTID                             int64\n",
      "SEX                                category\n",
      "LINKNUMBER                            int64\n",
      "ETHNICITY                          category\n",
      "DEATHCAUSECODE_1A                    object\n",
      "DEATHCAUSECODE_1B                    object\n",
      "DEATHCAUSECODE_1C                    object\n",
      "DEATHCAUSECODE_2                     object\n",
      "DEATHCAUSECODE_UNDERLYING            object\n",
      "DEATHLOCATIONCODE                  category\n",
      "NEWVITALSTATUS                     category\n",
      "VITALSTATUSDATE              datetime64[ns]\n",
      "dtype: object\n"
     ]
    },
    {
     "data": {
      "text/html": [
       "<div>\n",
       "<style scoped>\n",
       "    .dataframe tbody tr th:only-of-type {\n",
       "        vertical-align: middle;\n",
       "    }\n",
       "\n",
       "    .dataframe tbody tr th {\n",
       "        vertical-align: top;\n",
       "    }\n",
       "\n",
       "    .dataframe thead th {\n",
       "        text-align: right;\n",
       "    }\n",
       "</style>\n",
       "<table border=\"1\" class=\"dataframe\">\n",
       "  <thead>\n",
       "    <tr style=\"text-align: right;\">\n",
       "      <th></th>\n",
       "      <th>PATIENTID</th>\n",
       "      <th>SEX</th>\n",
       "      <th>LINKNUMBER</th>\n",
       "      <th>ETHNICITY</th>\n",
       "      <th>DEATHCAUSECODE_1A</th>\n",
       "      <th>DEATHCAUSECODE_1B</th>\n",
       "      <th>DEATHCAUSECODE_1C</th>\n",
       "      <th>DEATHCAUSECODE_2</th>\n",
       "      <th>DEATHCAUSECODE_UNDERLYING</th>\n",
       "      <th>DEATHLOCATIONCODE</th>\n",
       "      <th>NEWVITALSTATUS</th>\n",
       "      <th>VITALSTATUSDATE</th>\n",
       "    </tr>\n",
       "  </thead>\n",
       "  <tbody>\n",
       "    <tr>\n",
       "      <th>0</th>\n",
       "      <td>10000001</td>\n",
       "      <td>2</td>\n",
       "      <td>810000001</td>\n",
       "      <td>A</td>\n",
       "      <td>NaN</td>\n",
       "      <td>NaN</td>\n",
       "      <td>NaN</td>\n",
       "      <td>NaN</td>\n",
       "      <td>NaN</td>\n",
       "      <td>NaN</td>\n",
       "      <td>A</td>\n",
       "      <td>2017-01-17</td>\n",
       "    </tr>\n",
       "    <tr>\n",
       "      <th>1</th>\n",
       "      <td>10000002</td>\n",
       "      <td>2</td>\n",
       "      <td>810000002</td>\n",
       "      <td>Z</td>\n",
       "      <td>NaN</td>\n",
       "      <td>NaN</td>\n",
       "      <td>NaN</td>\n",
       "      <td>NaN</td>\n",
       "      <td>NaN</td>\n",
       "      <td>NaN</td>\n",
       "      <td>A</td>\n",
       "      <td>2017-01-14</td>\n",
       "    </tr>\n",
       "    <tr>\n",
       "      <th>2</th>\n",
       "      <td>10000003</td>\n",
       "      <td>1</td>\n",
       "      <td>810000003</td>\n",
       "      <td>A</td>\n",
       "      <td>NaN</td>\n",
       "      <td>NaN</td>\n",
       "      <td>NaN</td>\n",
       "      <td>NaN</td>\n",
       "      <td>NaN</td>\n",
       "      <td>NaN</td>\n",
       "      <td>A</td>\n",
       "      <td>2017-01-17</td>\n",
       "    </tr>\n",
       "    <tr>\n",
       "      <th>3</th>\n",
       "      <td>10000004</td>\n",
       "      <td>1</td>\n",
       "      <td>810000004</td>\n",
       "      <td>A</td>\n",
       "      <td>NaN</td>\n",
       "      <td>NaN</td>\n",
       "      <td>NaN</td>\n",
       "      <td>NaN</td>\n",
       "      <td>NaN</td>\n",
       "      <td>NaN</td>\n",
       "      <td>A</td>\n",
       "      <td>2017-01-13</td>\n",
       "    </tr>\n",
       "    <tr>\n",
       "      <th>4</th>\n",
       "      <td>10000005</td>\n",
       "      <td>2</td>\n",
       "      <td>810000005</td>\n",
       "      <td>NaN</td>\n",
       "      <td>NaN</td>\n",
       "      <td>NaN</td>\n",
       "      <td>NaN</td>\n",
       "      <td>NaN</td>\n",
       "      <td>NaN</td>\n",
       "      <td>NaN</td>\n",
       "      <td>A</td>\n",
       "      <td>2017-01-16</td>\n",
       "    </tr>\n",
       "  </tbody>\n",
       "</table>\n",
       "</div>"
      ],
      "text/plain": [
       "   PATIENTID SEX  LINKNUMBER ETHNICITY DEATHCAUSECODE_1A DEATHCAUSECODE_1B  \\\n",
       "0   10000001   2   810000001         A               NaN               NaN   \n",
       "1   10000002   2   810000002         Z               NaN               NaN   \n",
       "2   10000003   1   810000003         A               NaN               NaN   \n",
       "3   10000004   1   810000004         A               NaN               NaN   \n",
       "4   10000005   2   810000005       NaN               NaN               NaN   \n",
       "\n",
       "  DEATHCAUSECODE_1C DEATHCAUSECODE_2 DEATHCAUSECODE_UNDERLYING  \\\n",
       "0               NaN              NaN                       NaN   \n",
       "1               NaN              NaN                       NaN   \n",
       "2               NaN              NaN                       NaN   \n",
       "3               NaN              NaN                       NaN   \n",
       "4               NaN              NaN                       NaN   \n",
       "\n",
       "  DEATHLOCATIONCODE NEWVITALSTATUS VITALSTATUSDATE  \n",
       "0               NaN              A      2017-01-17  \n",
       "1               NaN              A      2017-01-14  \n",
       "2               NaN              A      2017-01-17  \n",
       "3               NaN              A      2017-01-13  \n",
       "4               NaN              A      2017-01-16  "
      ]
     },
     "execution_count": 5,
     "metadata": {},
     "output_type": "execute_result"
    }
   ],
   "source": [
    "print_df_summary(SIM_AV_PATIENT)"
   ]
  },
  {
   "cell_type": "code",
   "execution_count": 6,
   "metadata": {
    "scrolled": false
   },
   "outputs": [
    {
     "name": "stdout",
     "output_type": "stream",
     "text": [
      "1402817 rows\n",
      "34 columns\n",
      "\n",
      "TUMOURID                             int64\n",
      "PATIENTID                            int64\n",
      "DIAGNOSISDATEBEST           datetime64[ns]\n",
      "SITE_ICD10_O2                     category\n",
      "SITE_ICD10_O2_3CHAR               category\n",
      "MORPH_ICD10_O2                    category\n",
      "BEHAVIOUR_ICD10_O2                category\n",
      "T_BEST                            category\n",
      "N_BEST                            category\n",
      "M_BEST                            category\n",
      "STAGE_BEST                        category\n",
      "STAGE_BEST_SYSTEM                 category\n",
      "GRADE                             category\n",
      "AGE                                float64\n",
      "SEX                               category\n",
      "CREG_CODE                         category\n",
      "LINKNUMBER                           int64\n",
      "SCREENINGSTATUSFULL_CODE          category\n",
      "ER_STATUS                         category\n",
      "ER_SCORE                          category\n",
      "PR_STATUS                         category\n",
      "PR_SCORE                          category\n",
      "HER2_STATUS                       category\n",
      "CANCERCAREPLANINTENT              category\n",
      "PERFORMANCESTATUS                 category\n",
      "CNS                               category\n",
      "ACE27                             category\n",
      "GLEASON_PRIMARY                   category\n",
      "GLEASON_SECONDARY                 category\n",
      "GLEASON_TERTIARY                  category\n",
      "GLEASON_COMBINED                  category\n",
      "DATE_FIRST_SURGERY          datetime64[ns]\n",
      "LATERALITY                        category\n",
      "QUINTILE_2015                     category\n",
      "dtype: object\n"
     ]
    },
    {
     "data": {
      "text/html": [
       "<div>\n",
       "<style scoped>\n",
       "    .dataframe tbody tr th:only-of-type {\n",
       "        vertical-align: middle;\n",
       "    }\n",
       "\n",
       "    .dataframe tbody tr th {\n",
       "        vertical-align: top;\n",
       "    }\n",
       "\n",
       "    .dataframe thead th {\n",
       "        text-align: right;\n",
       "    }\n",
       "</style>\n",
       "<table border=\"1\" class=\"dataframe\">\n",
       "  <thead>\n",
       "    <tr style=\"text-align: right;\">\n",
       "      <th></th>\n",
       "      <th>TUMOURID</th>\n",
       "      <th>PATIENTID</th>\n",
       "      <th>DIAGNOSISDATEBEST</th>\n",
       "      <th>SITE_ICD10_O2</th>\n",
       "      <th>SITE_ICD10_O2_3CHAR</th>\n",
       "      <th>MORPH_ICD10_O2</th>\n",
       "      <th>BEHAVIOUR_ICD10_O2</th>\n",
       "      <th>T_BEST</th>\n",
       "      <th>N_BEST</th>\n",
       "      <th>M_BEST</th>\n",
       "      <th>...</th>\n",
       "      <th>PERFORMANCESTATUS</th>\n",
       "      <th>CNS</th>\n",
       "      <th>ACE27</th>\n",
       "      <th>GLEASON_PRIMARY</th>\n",
       "      <th>GLEASON_SECONDARY</th>\n",
       "      <th>GLEASON_TERTIARY</th>\n",
       "      <th>GLEASON_COMBINED</th>\n",
       "      <th>DATE_FIRST_SURGERY</th>\n",
       "      <th>LATERALITY</th>\n",
       "      <th>QUINTILE_2015</th>\n",
       "    </tr>\n",
       "  </thead>\n",
       "  <tbody>\n",
       "    <tr>\n",
       "      <th>0</th>\n",
       "      <td>10000001</td>\n",
       "      <td>10000001</td>\n",
       "      <td>2015-11-06</td>\n",
       "      <td>C443</td>\n",
       "      <td>C44</td>\n",
       "      <td>8090</td>\n",
       "      <td>3</td>\n",
       "      <td>NaN</td>\n",
       "      <td>NaN</td>\n",
       "      <td>NaN</td>\n",
       "      <td>...</td>\n",
       "      <td>NaN</td>\n",
       "      <td>NaN</td>\n",
       "      <td>NaN</td>\n",
       "      <td>NaN</td>\n",
       "      <td>NaN</td>\n",
       "      <td>NaN</td>\n",
       "      <td>NaN</td>\n",
       "      <td>2015-11-06</td>\n",
       "      <td>L</td>\n",
       "      <td>3</td>\n",
       "    </tr>\n",
       "    <tr>\n",
       "      <th>1</th>\n",
       "      <td>10000002</td>\n",
       "      <td>10000002</td>\n",
       "      <td>2015-10-06</td>\n",
       "      <td>C449</td>\n",
       "      <td>C44</td>\n",
       "      <td>8090</td>\n",
       "      <td>3</td>\n",
       "      <td>NaN</td>\n",
       "      <td>NaN</td>\n",
       "      <td>NaN</td>\n",
       "      <td>...</td>\n",
       "      <td>NaN</td>\n",
       "      <td>NaN</td>\n",
       "      <td>NaN</td>\n",
       "      <td>NaN</td>\n",
       "      <td>NaN</td>\n",
       "      <td>NaN</td>\n",
       "      <td>NaN</td>\n",
       "      <td>2015-10-06</td>\n",
       "      <td>8</td>\n",
       "      <td>2</td>\n",
       "    </tr>\n",
       "    <tr>\n",
       "      <th>2</th>\n",
       "      <td>10000003</td>\n",
       "      <td>10000003</td>\n",
       "      <td>2013-01-30</td>\n",
       "      <td>C449</td>\n",
       "      <td>C44</td>\n",
       "      <td>8090</td>\n",
       "      <td>3</td>\n",
       "      <td>NaN</td>\n",
       "      <td>NaN</td>\n",
       "      <td>NaN</td>\n",
       "      <td>...</td>\n",
       "      <td>NaN</td>\n",
       "      <td>NaN</td>\n",
       "      <td>NaN</td>\n",
       "      <td>NaN</td>\n",
       "      <td>NaN</td>\n",
       "      <td>NaN</td>\n",
       "      <td>NaN</td>\n",
       "      <td>NaT</td>\n",
       "      <td>8</td>\n",
       "      <td>1 - least deprived</td>\n",
       "    </tr>\n",
       "    <tr>\n",
       "      <th>3</th>\n",
       "      <td>10000004</td>\n",
       "      <td>10000004</td>\n",
       "      <td>2015-09-15</td>\n",
       "      <td>C449</td>\n",
       "      <td>C44</td>\n",
       "      <td>8090</td>\n",
       "      <td>3</td>\n",
       "      <td>NaN</td>\n",
       "      <td>NaN</td>\n",
       "      <td>NaN</td>\n",
       "      <td>...</td>\n",
       "      <td>NaN</td>\n",
       "      <td>NaN</td>\n",
       "      <td>NaN</td>\n",
       "      <td>NaN</td>\n",
       "      <td>NaN</td>\n",
       "      <td>NaN</td>\n",
       "      <td>NaN</td>\n",
       "      <td>NaT</td>\n",
       "      <td>8</td>\n",
       "      <td>2</td>\n",
       "    </tr>\n",
       "    <tr>\n",
       "      <th>4</th>\n",
       "      <td>10000005</td>\n",
       "      <td>10000005</td>\n",
       "      <td>2014-11-01</td>\n",
       "      <td>C449</td>\n",
       "      <td>C44</td>\n",
       "      <td>8090</td>\n",
       "      <td>3</td>\n",
       "      <td>NaN</td>\n",
       "      <td>NaN</td>\n",
       "      <td>NaN</td>\n",
       "      <td>...</td>\n",
       "      <td>NaN</td>\n",
       "      <td>NaN</td>\n",
       "      <td>NaN</td>\n",
       "      <td>NaN</td>\n",
       "      <td>NaN</td>\n",
       "      <td>NaN</td>\n",
       "      <td>NaN</td>\n",
       "      <td>2014-11-01</td>\n",
       "      <td>8</td>\n",
       "      <td>2</td>\n",
       "    </tr>\n",
       "  </tbody>\n",
       "</table>\n",
       "<p>5 rows × 34 columns</p>\n",
       "</div>"
      ],
      "text/plain": [
       "   TUMOURID  PATIENTID DIAGNOSISDATEBEST SITE_ICD10_O2 SITE_ICD10_O2_3CHAR  \\\n",
       "0  10000001   10000001        2015-11-06          C443                 C44   \n",
       "1  10000002   10000002        2015-10-06          C449                 C44   \n",
       "2  10000003   10000003        2013-01-30          C449                 C44   \n",
       "3  10000004   10000004        2015-09-15          C449                 C44   \n",
       "4  10000005   10000005        2014-11-01          C449                 C44   \n",
       "\n",
       "  MORPH_ICD10_O2 BEHAVIOUR_ICD10_O2 T_BEST N_BEST M_BEST         ...          \\\n",
       "0           8090                  3    NaN    NaN    NaN         ...           \n",
       "1           8090                  3    NaN    NaN    NaN         ...           \n",
       "2           8090                  3    NaN    NaN    NaN         ...           \n",
       "3           8090                  3    NaN    NaN    NaN         ...           \n",
       "4           8090                  3    NaN    NaN    NaN         ...           \n",
       "\n",
       "  PERFORMANCESTATUS  CNS ACE27  GLEASON_PRIMARY GLEASON_SECONDARY  \\\n",
       "0               NaN  NaN   NaN              NaN               NaN   \n",
       "1               NaN  NaN   NaN              NaN               NaN   \n",
       "2               NaN  NaN   NaN              NaN               NaN   \n",
       "3               NaN  NaN   NaN              NaN               NaN   \n",
       "4               NaN  NaN   NaN              NaN               NaN   \n",
       "\n",
       "  GLEASON_TERTIARY  GLEASON_COMBINED DATE_FIRST_SURGERY LATERALITY  \\\n",
       "0              NaN               NaN         2015-11-06          L   \n",
       "1              NaN               NaN         2015-10-06          8   \n",
       "2              NaN               NaN                NaT          8   \n",
       "3              NaN               NaN                NaT          8   \n",
       "4              NaN               NaN         2014-11-01          8   \n",
       "\n",
       "        QUINTILE_2015  \n",
       "0                   3  \n",
       "1                   2  \n",
       "2  1 - least deprived  \n",
       "3                   2  \n",
       "4                   2  \n",
       "\n",
       "[5 rows x 34 columns]"
      ]
     },
     "execution_count": 6,
     "metadata": {},
     "output_type": "execute_result"
    }
   ],
   "source": [
    "print_df_summary(SIM_AV_TUMOUR)"
   ]
  },
  {
   "cell_type": "code",
   "execution_count": 7,
   "metadata": {},
   "outputs": [
    {
     "name": "stdout",
     "output_type": "stream",
     "text": [
      "1462099 rows\n",
      "8 columns\n",
      "\n",
      "MERGED_CYCLE_ID                        int64\n",
      "MERGED_REGIMEN_ID                      int64\n",
      "CYCLE_NUMBER                           int64\n",
      "START_DATE_OF_CYCLE           datetime64[ns]\n",
      "OPCS_PROCUREMENT_CODE               category\n",
      "PERF_STATUS_START_OF_CYCLE          category\n",
      "MERGED_PATIENT_ID                      int64\n",
      "MERGED_TUMOUR_ID                       int64\n",
      "dtype: object\n"
     ]
    },
    {
     "data": {
      "text/html": [
       "<div>\n",
       "<style scoped>\n",
       "    .dataframe tbody tr th:only-of-type {\n",
       "        vertical-align: middle;\n",
       "    }\n",
       "\n",
       "    .dataframe tbody tr th {\n",
       "        vertical-align: top;\n",
       "    }\n",
       "\n",
       "    .dataframe thead th {\n",
       "        text-align: right;\n",
       "    }\n",
       "</style>\n",
       "<table border=\"1\" class=\"dataframe\">\n",
       "  <thead>\n",
       "    <tr style=\"text-align: right;\">\n",
       "      <th></th>\n",
       "      <th>MERGED_CYCLE_ID</th>\n",
       "      <th>MERGED_REGIMEN_ID</th>\n",
       "      <th>CYCLE_NUMBER</th>\n",
       "      <th>START_DATE_OF_CYCLE</th>\n",
       "      <th>OPCS_PROCUREMENT_CODE</th>\n",
       "      <th>PERF_STATUS_START_OF_CYCLE</th>\n",
       "      <th>MERGED_PATIENT_ID</th>\n",
       "      <th>MERGED_TUMOUR_ID</th>\n",
       "    </tr>\n",
       "  </thead>\n",
       "  <tbody>\n",
       "    <tr>\n",
       "      <th>0</th>\n",
       "      <td>10000001</td>\n",
       "      <td>10000001</td>\n",
       "      <td>4</td>\n",
       "      <td>2015-06-07</td>\n",
       "      <td>NaN</td>\n",
       "      <td>NaN</td>\n",
       "      <td>10000235</td>\n",
       "      <td>10000001</td>\n",
       "    </tr>\n",
       "    <tr>\n",
       "      <th>1</th>\n",
       "      <td>10000002</td>\n",
       "      <td>10000002</td>\n",
       "      <td>2</td>\n",
       "      <td>2016-08-07</td>\n",
       "      <td>NaN</td>\n",
       "      <td>00</td>\n",
       "      <td>10000315</td>\n",
       "      <td>10000002</td>\n",
       "    </tr>\n",
       "    <tr>\n",
       "      <th>2</th>\n",
       "      <td>10000003</td>\n",
       "      <td>10000003</td>\n",
       "      <td>3</td>\n",
       "      <td>NaT</td>\n",
       "      <td>X715</td>\n",
       "      <td>NaN</td>\n",
       "      <td>10000337</td>\n",
       "      <td>10000003</td>\n",
       "    </tr>\n",
       "    <tr>\n",
       "      <th>3</th>\n",
       "      <td>10000004</td>\n",
       "      <td>10000004</td>\n",
       "      <td>2</td>\n",
       "      <td>2015-03-23</td>\n",
       "      <td>X712</td>\n",
       "      <td>0</td>\n",
       "      <td>10000480</td>\n",
       "      <td>10000004</td>\n",
       "    </tr>\n",
       "    <tr>\n",
       "      <th>4</th>\n",
       "      <td>10000005</td>\n",
       "      <td>10000005</td>\n",
       "      <td>1</td>\n",
       "      <td>2013-03-11</td>\n",
       "      <td>X711</td>\n",
       "      <td>NaN</td>\n",
       "      <td>10000533</td>\n",
       "      <td>10000005</td>\n",
       "    </tr>\n",
       "  </tbody>\n",
       "</table>\n",
       "</div>"
      ],
      "text/plain": [
       "   MERGED_CYCLE_ID  MERGED_REGIMEN_ID  CYCLE_NUMBER START_DATE_OF_CYCLE  \\\n",
       "0         10000001           10000001             4          2015-06-07   \n",
       "1         10000002           10000002             2          2016-08-07   \n",
       "2         10000003           10000003             3                 NaT   \n",
       "3         10000004           10000004             2          2015-03-23   \n",
       "4         10000005           10000005             1          2013-03-11   \n",
       "\n",
       "  OPCS_PROCUREMENT_CODE PERF_STATUS_START_OF_CYCLE  MERGED_PATIENT_ID  \\\n",
       "0                   NaN                        NaN           10000235   \n",
       "1                   NaN                         00           10000315   \n",
       "2                  X715                        NaN           10000337   \n",
       "3                  X712                          0           10000480   \n",
       "4                  X711                        NaN           10000533   \n",
       "\n",
       "   MERGED_TUMOUR_ID  \n",
       "0          10000001  \n",
       "1          10000002  \n",
       "2          10000003  \n",
       "3          10000004  \n",
       "4          10000005  "
      ]
     },
     "execution_count": 7,
     "metadata": {},
     "output_type": "execute_result"
    }
   ],
   "source": [
    "print_df_summary(SIM_SACT_CYCLE)"
   ]
  },
  {
   "cell_type": "code",
   "execution_count": 8,
   "metadata": {
    "scrolled": false
   },
   "outputs": [
    {
     "name": "stdout",
     "output_type": "stream",
     "text": [
      "3544584 rows\n",
      "11 columns\n",
      "\n",
      "MERGED_DRUG_DETAIL_ID                      int64\n",
      "MERGED_CYCLE_ID                            int64\n",
      "ORG_CODE_OF_DRUG_PROVIDER               category\n",
      "ACTUAL_DOSE_PER_ADMINISTRATION           float64\n",
      "OPCS_DELIVERY_CODE                      category\n",
      "ADMINISTRATION_ROUTE                    category\n",
      "ADMINISTRATION_DATE               datetime64[ns]\n",
      "DRUG_GROUP                              category\n",
      "MERGED_PATIENT_ID                          int64\n",
      "MERGED_TUMOUR_ID                           int64\n",
      "MERGED_REGIMEN_ID                          int64\n",
      "dtype: object\n"
     ]
    },
    {
     "data": {
      "text/html": [
       "<div>\n",
       "<style scoped>\n",
       "    .dataframe tbody tr th:only-of-type {\n",
       "        vertical-align: middle;\n",
       "    }\n",
       "\n",
       "    .dataframe tbody tr th {\n",
       "        vertical-align: top;\n",
       "    }\n",
       "\n",
       "    .dataframe thead th {\n",
       "        text-align: right;\n",
       "    }\n",
       "</style>\n",
       "<table border=\"1\" class=\"dataframe\">\n",
       "  <thead>\n",
       "    <tr style=\"text-align: right;\">\n",
       "      <th></th>\n",
       "      <th>MERGED_DRUG_DETAIL_ID</th>\n",
       "      <th>MERGED_CYCLE_ID</th>\n",
       "      <th>ORG_CODE_OF_DRUG_PROVIDER</th>\n",
       "      <th>ACTUAL_DOSE_PER_ADMINISTRATION</th>\n",
       "      <th>OPCS_DELIVERY_CODE</th>\n",
       "      <th>ADMINISTRATION_ROUTE</th>\n",
       "      <th>ADMINISTRATION_DATE</th>\n",
       "      <th>DRUG_GROUP</th>\n",
       "      <th>MERGED_PATIENT_ID</th>\n",
       "      <th>MERGED_TUMOUR_ID</th>\n",
       "      <th>MERGED_REGIMEN_ID</th>\n",
       "    </tr>\n",
       "  </thead>\n",
       "  <tbody>\n",
       "    <tr>\n",
       "      <th>0</th>\n",
       "      <td>10000001</td>\n",
       "      <td>10000001</td>\n",
       "      <td>EKD02</td>\n",
       "      <td>10.0</td>\n",
       "      <td>NaN</td>\n",
       "      <td>1</td>\n",
       "      <td>2015-06-07</td>\n",
       "      <td>STEROID</td>\n",
       "      <td>10000235</td>\n",
       "      <td>10000001</td>\n",
       "      <td>10000001</td>\n",
       "    </tr>\n",
       "    <tr>\n",
       "      <th>1</th>\n",
       "      <td>10000002</td>\n",
       "      <td>10000002</td>\n",
       "      <td>EGU02</td>\n",
       "      <td>30.0</td>\n",
       "      <td>NaN</td>\n",
       "      <td>2</td>\n",
       "      <td>NaT</td>\n",
       "      <td>NOT CHEMO</td>\n",
       "      <td>10000315</td>\n",
       "      <td>10000002</td>\n",
       "      <td>10000002</td>\n",
       "    </tr>\n",
       "    <tr>\n",
       "      <th>2</th>\n",
       "      <td>10000003</td>\n",
       "      <td>10000003</td>\n",
       "      <td>EGU05</td>\n",
       "      <td>1000.0</td>\n",
       "      <td>NaN</td>\n",
       "      <td>1</td>\n",
       "      <td>NaT</td>\n",
       "      <td>RITUXIMAB</td>\n",
       "      <td>10000337</td>\n",
       "      <td>10000003</td>\n",
       "      <td>10000003</td>\n",
       "    </tr>\n",
       "    <tr>\n",
       "      <th>3</th>\n",
       "      <td>10000004</td>\n",
       "      <td>10000004</td>\n",
       "      <td>EXO</td>\n",
       "      <td>8.0</td>\n",
       "      <td>X723</td>\n",
       "      <td>2</td>\n",
       "      <td>2015-03-23</td>\n",
       "      <td>NOT CHEMO</td>\n",
       "      <td>10000480</td>\n",
       "      <td>10000004</td>\n",
       "      <td>10000004</td>\n",
       "    </tr>\n",
       "    <tr>\n",
       "      <th>4</th>\n",
       "      <td>10000005</td>\n",
       "      <td>10000005</td>\n",
       "      <td>ETD02</td>\n",
       "      <td>1000.0</td>\n",
       "      <td>NaN</td>\n",
       "      <td>2</td>\n",
       "      <td>2013-03-11</td>\n",
       "      <td>NOT CHEMO</td>\n",
       "      <td>10000533</td>\n",
       "      <td>10000005</td>\n",
       "      <td>10000005</td>\n",
       "    </tr>\n",
       "  </tbody>\n",
       "</table>\n",
       "</div>"
      ],
      "text/plain": [
       "   MERGED_DRUG_DETAIL_ID  MERGED_CYCLE_ID ORG_CODE_OF_DRUG_PROVIDER  \\\n",
       "0               10000001         10000001                     EKD02   \n",
       "1               10000002         10000002                     EGU02   \n",
       "2               10000003         10000003                     EGU05   \n",
       "3               10000004         10000004                       EXO   \n",
       "4               10000005         10000005                     ETD02   \n",
       "\n",
       "   ACTUAL_DOSE_PER_ADMINISTRATION OPCS_DELIVERY_CODE ADMINISTRATION_ROUTE  \\\n",
       "0                            10.0                NaN                    1   \n",
       "1                            30.0                NaN                    2   \n",
       "2                          1000.0                NaN                    1   \n",
       "3                             8.0               X723                    2   \n",
       "4                          1000.0                NaN                    2   \n",
       "\n",
       "  ADMINISTRATION_DATE DRUG_GROUP  MERGED_PATIENT_ID  MERGED_TUMOUR_ID  \\\n",
       "0          2015-06-07    STEROID           10000235          10000001   \n",
       "1                 NaT  NOT CHEMO           10000315          10000002   \n",
       "2                 NaT  RITUXIMAB           10000337          10000003   \n",
       "3          2015-03-23  NOT CHEMO           10000480          10000004   \n",
       "4          2013-03-11  NOT CHEMO           10000533          10000005   \n",
       "\n",
       "   MERGED_REGIMEN_ID  \n",
       "0           10000001  \n",
       "1           10000002  \n",
       "2           10000003  \n",
       "3           10000004  \n",
       "4           10000005  "
      ]
     },
     "execution_count": 8,
     "metadata": {},
     "output_type": "execute_result"
    }
   ],
   "source": [
    "print_df_summary(SIM_SACT_DRUG_DETAIL)"
   ]
  },
  {
   "cell_type": "code",
   "execution_count": 9,
   "metadata": {
    "scrolled": false
   },
   "outputs": [
    {
     "name": "stdout",
     "output_type": "stream",
     "text": [
      "351668 rows\n",
      "9 columns\n",
      "\n",
      "MERGED_OUTCOME_ID                int64\n",
      "MERGED_REGIMEN_ID                int64\n",
      "DATE_OF_FINAL_TREATMENT         object\n",
      "REGIMEN_MOD_DOSE_REDUCTION    category\n",
      "REGIMEN_MOD_TIME_DELAY        category\n",
      "REGIMEN_MOD_STOPPED_EARLY     category\n",
      "REGIMEN_OUTCOME_SUMMARY       category\n",
      "MERGED_PATIENT_ID                int64\n",
      "MERGED_TUMOUR_ID                 int64\n",
      "dtype: object\n"
     ]
    },
    {
     "data": {
      "text/html": [
       "<div>\n",
       "<style scoped>\n",
       "    .dataframe tbody tr th:only-of-type {\n",
       "        vertical-align: middle;\n",
       "    }\n",
       "\n",
       "    .dataframe tbody tr th {\n",
       "        vertical-align: top;\n",
       "    }\n",
       "\n",
       "    .dataframe thead th {\n",
       "        text-align: right;\n",
       "    }\n",
       "</style>\n",
       "<table border=\"1\" class=\"dataframe\">\n",
       "  <thead>\n",
       "    <tr style=\"text-align: right;\">\n",
       "      <th></th>\n",
       "      <th>MERGED_OUTCOME_ID</th>\n",
       "      <th>MERGED_REGIMEN_ID</th>\n",
       "      <th>DATE_OF_FINAL_TREATMENT</th>\n",
       "      <th>REGIMEN_MOD_DOSE_REDUCTION</th>\n",
       "      <th>REGIMEN_MOD_TIME_DELAY</th>\n",
       "      <th>REGIMEN_MOD_STOPPED_EARLY</th>\n",
       "      <th>REGIMEN_OUTCOME_SUMMARY</th>\n",
       "      <th>MERGED_PATIENT_ID</th>\n",
       "      <th>MERGED_TUMOUR_ID</th>\n",
       "    </tr>\n",
       "  </thead>\n",
       "  <tbody>\n",
       "    <tr>\n",
       "      <th>0</th>\n",
       "      <td>10000001</td>\n",
       "      <td>10000003</td>\n",
       "      <td>2014-01-09</td>\n",
       "      <td>N</td>\n",
       "      <td>N</td>\n",
       "      <td>N</td>\n",
       "      <td>NaN</td>\n",
       "      <td>10000337</td>\n",
       "      <td>10000003</td>\n",
       "    </tr>\n",
       "    <tr>\n",
       "      <th>1</th>\n",
       "      <td>10000002</td>\n",
       "      <td>10000005</td>\n",
       "      <td>nan</td>\n",
       "      <td>Y</td>\n",
       "      <td>Y</td>\n",
       "      <td>N</td>\n",
       "      <td>NaN</td>\n",
       "      <td>10000533</td>\n",
       "      <td>10000005</td>\n",
       "    </tr>\n",
       "    <tr>\n",
       "      <th>2</th>\n",
       "      <td>10000003</td>\n",
       "      <td>10000006</td>\n",
       "      <td>nan</td>\n",
       "      <td>N</td>\n",
       "      <td>Y</td>\n",
       "      <td>N</td>\n",
       "      <td>NaN</td>\n",
       "      <td>10000697</td>\n",
       "      <td>10000006</td>\n",
       "    </tr>\n",
       "    <tr>\n",
       "      <th>3</th>\n",
       "      <td>10000004</td>\n",
       "      <td>10000007</td>\n",
       "      <td>nan</td>\n",
       "      <td>Y</td>\n",
       "      <td>NaN</td>\n",
       "      <td>N</td>\n",
       "      <td>NaN</td>\n",
       "      <td>10000697</td>\n",
       "      <td>10000006</td>\n",
       "    </tr>\n",
       "    <tr>\n",
       "      <th>4</th>\n",
       "      <td>10000005</td>\n",
       "      <td>10000008</td>\n",
       "      <td>2012-12-07</td>\n",
       "      <td>NaN</td>\n",
       "      <td>NaN</td>\n",
       "      <td>NaN</td>\n",
       "      <td>NaN</td>\n",
       "      <td>10000773</td>\n",
       "      <td>10009036</td>\n",
       "    </tr>\n",
       "  </tbody>\n",
       "</table>\n",
       "</div>"
      ],
      "text/plain": [
       "   MERGED_OUTCOME_ID  MERGED_REGIMEN_ID DATE_OF_FINAL_TREATMENT  \\\n",
       "0           10000001           10000003              2014-01-09   \n",
       "1           10000002           10000005                     nan   \n",
       "2           10000003           10000006                     nan   \n",
       "3           10000004           10000007                     nan   \n",
       "4           10000005           10000008              2012-12-07   \n",
       "\n",
       "  REGIMEN_MOD_DOSE_REDUCTION REGIMEN_MOD_TIME_DELAY REGIMEN_MOD_STOPPED_EARLY  \\\n",
       "0                          N                      N                         N   \n",
       "1                          Y                      Y                         N   \n",
       "2                          N                      Y                         N   \n",
       "3                          Y                    NaN                         N   \n",
       "4                        NaN                    NaN                       NaN   \n",
       "\n",
       "  REGIMEN_OUTCOME_SUMMARY  MERGED_PATIENT_ID  MERGED_TUMOUR_ID  \n",
       "0                     NaN           10000337          10000003  \n",
       "1                     NaN           10000533          10000005  \n",
       "2                     NaN           10000697          10000006  \n",
       "3                     NaN           10000697          10000006  \n",
       "4                     NaN           10000773          10009036  "
      ]
     },
     "execution_count": 9,
     "metadata": {},
     "output_type": "execute_result"
    }
   ],
   "source": [
    "print_df_summary(SIM_SACT_OUTCOME)"
   ]
  },
  {
   "cell_type": "code",
   "execution_count": 10,
   "metadata": {
    "scrolled": true
   },
   "outputs": [
    {
     "name": "stdout",
     "output_type": "stream",
     "text": [
      "245938 rows\n",
      "2 columns\n",
      "\n",
      "MERGED_PATIENT_ID    int64\n",
      "LINK_NUMBER          int64\n",
      "dtype: object\n"
     ]
    },
    {
     "data": {
      "text/html": [
       "<div>\n",
       "<style scoped>\n",
       "    .dataframe tbody tr th:only-of-type {\n",
       "        vertical-align: middle;\n",
       "    }\n",
       "\n",
       "    .dataframe tbody tr th {\n",
       "        vertical-align: top;\n",
       "    }\n",
       "\n",
       "    .dataframe thead th {\n",
       "        text-align: right;\n",
       "    }\n",
       "</style>\n",
       "<table border=\"1\" class=\"dataframe\">\n",
       "  <thead>\n",
       "    <tr style=\"text-align: right;\">\n",
       "      <th></th>\n",
       "      <th>MERGED_PATIENT_ID</th>\n",
       "      <th>LINK_NUMBER</th>\n",
       "    </tr>\n",
       "  </thead>\n",
       "  <tbody>\n",
       "    <tr>\n",
       "      <th>0</th>\n",
       "      <td>10000087</td>\n",
       "      <td>810000087</td>\n",
       "    </tr>\n",
       "    <tr>\n",
       "      <th>1</th>\n",
       "      <td>10000235</td>\n",
       "      <td>810000235</td>\n",
       "    </tr>\n",
       "    <tr>\n",
       "      <th>2</th>\n",
       "      <td>10000283</td>\n",
       "      <td>810000283</td>\n",
       "    </tr>\n",
       "    <tr>\n",
       "      <th>3</th>\n",
       "      <td>10000315</td>\n",
       "      <td>810000315</td>\n",
       "    </tr>\n",
       "    <tr>\n",
       "      <th>4</th>\n",
       "      <td>10000337</td>\n",
       "      <td>810000337</td>\n",
       "    </tr>\n",
       "  </tbody>\n",
       "</table>\n",
       "</div>"
      ],
      "text/plain": [
       "   MERGED_PATIENT_ID  LINK_NUMBER\n",
       "0           10000087    810000087\n",
       "1           10000235    810000235\n",
       "2           10000283    810000283\n",
       "3           10000315    810000315\n",
       "4           10000337    810000337"
      ]
     },
     "execution_count": 10,
     "metadata": {},
     "output_type": "execute_result"
    }
   ],
   "source": [
    "print_df_summary(SIM_SACT_PATIENT)"
   ]
  },
  {
   "cell_type": "code",
   "execution_count": 11,
   "metadata": {
    "scrolled": false
   },
   "outputs": [
    {
     "name": "stdout",
     "output_type": "stream",
     "text": [
      "471919 rows\n",
      "12 columns\n",
      "\n",
      "MERGED_REGIMEN_ID                      int64\n",
      "MERGED_TUMOUR_ID                       int64\n",
      "HEIGHT_AT_START_OF_REGIMEN           float64\n",
      "WEIGHT_AT_START_OF_REGIMEN           float64\n",
      "INTENT_OF_TREATMENT                 category\n",
      "DATE_DECISION_TO_TREAT        datetime64[ns]\n",
      "START_DATE_OF_REGIMEN         datetime64[ns]\n",
      "MAPPED_REGIMEN                        object\n",
      "CLINICAL_TRIAL                      category\n",
      "CHEMO_RADIATION                     category\n",
      "MERGED_PATIENT_ID                      int64\n",
      "BENCHMARK_GROUP                     category\n",
      "dtype: object\n"
     ]
    },
    {
     "data": {
      "text/html": [
       "<div>\n",
       "<style scoped>\n",
       "    .dataframe tbody tr th:only-of-type {\n",
       "        vertical-align: middle;\n",
       "    }\n",
       "\n",
       "    .dataframe tbody tr th {\n",
       "        vertical-align: top;\n",
       "    }\n",
       "\n",
       "    .dataframe thead th {\n",
       "        text-align: right;\n",
       "    }\n",
       "</style>\n",
       "<table border=\"1\" class=\"dataframe\">\n",
       "  <thead>\n",
       "    <tr style=\"text-align: right;\">\n",
       "      <th></th>\n",
       "      <th>MERGED_REGIMEN_ID</th>\n",
       "      <th>MERGED_TUMOUR_ID</th>\n",
       "      <th>HEIGHT_AT_START_OF_REGIMEN</th>\n",
       "      <th>WEIGHT_AT_START_OF_REGIMEN</th>\n",
       "      <th>INTENT_OF_TREATMENT</th>\n",
       "      <th>DATE_DECISION_TO_TREAT</th>\n",
       "      <th>START_DATE_OF_REGIMEN</th>\n",
       "      <th>MAPPED_REGIMEN</th>\n",
       "      <th>CLINICAL_TRIAL</th>\n",
       "      <th>CHEMO_RADIATION</th>\n",
       "      <th>MERGED_PATIENT_ID</th>\n",
       "      <th>BENCHMARK_GROUP</th>\n",
       "    </tr>\n",
       "  </thead>\n",
       "  <tbody>\n",
       "    <tr>\n",
       "      <th>0</th>\n",
       "      <td>10000001</td>\n",
       "      <td>10000001</td>\n",
       "      <td>-1.0</td>\n",
       "      <td>NaN</td>\n",
       "      <td>N</td>\n",
       "      <td>2015-03-08</td>\n",
       "      <td>2015-03-08</td>\n",
       "      <td>DEGARELIX</td>\n",
       "      <td>NaN</td>\n",
       "      <td>N</td>\n",
       "      <td>10000235</td>\n",
       "      <td>HORMONES</td>\n",
       "    </tr>\n",
       "    <tr>\n",
       "      <th>1</th>\n",
       "      <td>10000002</td>\n",
       "      <td>10000002</td>\n",
       "      <td>NaN</td>\n",
       "      <td>NaN</td>\n",
       "      <td>P</td>\n",
       "      <td>2016-07-09</td>\n",
       "      <td>2016-07-10</td>\n",
       "      <td>BICALUTAMIDE + GOSERELIN</td>\n",
       "      <td>NaN</td>\n",
       "      <td>N</td>\n",
       "      <td>10000315</td>\n",
       "      <td>HORMONES</td>\n",
       "    </tr>\n",
       "    <tr>\n",
       "      <th>2</th>\n",
       "      <td>10000003</td>\n",
       "      <td>10000003</td>\n",
       "      <td>NaN</td>\n",
       "      <td>NaN</td>\n",
       "      <td>P</td>\n",
       "      <td>2014-01-09</td>\n",
       "      <td>2014-01-09</td>\n",
       "      <td>EXEMESTANE</td>\n",
       "      <td>02</td>\n",
       "      <td>N</td>\n",
       "      <td>10000337</td>\n",
       "      <td>HORMONES</td>\n",
       "    </tr>\n",
       "    <tr>\n",
       "      <th>3</th>\n",
       "      <td>10000004</td>\n",
       "      <td>10000004</td>\n",
       "      <td>NaN</td>\n",
       "      <td>NaN</td>\n",
       "      <td>NaN</td>\n",
       "      <td>2015-03-17</td>\n",
       "      <td>2015-03-23</td>\n",
       "      <td>Rituximab</td>\n",
       "      <td>N</td>\n",
       "      <td>NaN</td>\n",
       "      <td>10000480</td>\n",
       "      <td>RITUXIMAB</td>\n",
       "    </tr>\n",
       "    <tr>\n",
       "      <th>4</th>\n",
       "      <td>10000005</td>\n",
       "      <td>10000005</td>\n",
       "      <td>0.0</td>\n",
       "      <td>NaN</td>\n",
       "      <td>C</td>\n",
       "      <td>2012-12-30</td>\n",
       "      <td>2013-03-11</td>\n",
       "      <td>Hydroxycarbamide</td>\n",
       "      <td>N</td>\n",
       "      <td>N</td>\n",
       "      <td>10000533</td>\n",
       "      <td>HYDROXYCARBAMIDE</td>\n",
       "    </tr>\n",
       "  </tbody>\n",
       "</table>\n",
       "</div>"
      ],
      "text/plain": [
       "   MERGED_REGIMEN_ID  MERGED_TUMOUR_ID  HEIGHT_AT_START_OF_REGIMEN  \\\n",
       "0           10000001          10000001                        -1.0   \n",
       "1           10000002          10000002                         NaN   \n",
       "2           10000003          10000003                         NaN   \n",
       "3           10000004          10000004                         NaN   \n",
       "4           10000005          10000005                         0.0   \n",
       "\n",
       "   WEIGHT_AT_START_OF_REGIMEN INTENT_OF_TREATMENT DATE_DECISION_TO_TREAT  \\\n",
       "0                         NaN                   N             2015-03-08   \n",
       "1                         NaN                   P             2016-07-09   \n",
       "2                         NaN                   P             2014-01-09   \n",
       "3                         NaN                 NaN             2015-03-17   \n",
       "4                         NaN                   C             2012-12-30   \n",
       "\n",
       "  START_DATE_OF_REGIMEN            MAPPED_REGIMEN CLINICAL_TRIAL  \\\n",
       "0            2015-03-08                 DEGARELIX            NaN   \n",
       "1            2016-07-10  BICALUTAMIDE + GOSERELIN            NaN   \n",
       "2            2014-01-09                EXEMESTANE             02   \n",
       "3            2015-03-23                 Rituximab              N   \n",
       "4            2013-03-11          Hydroxycarbamide              N   \n",
       "\n",
       "  CHEMO_RADIATION  MERGED_PATIENT_ID   BENCHMARK_GROUP  \n",
       "0               N           10000235          HORMONES  \n",
       "1               N           10000315          HORMONES  \n",
       "2               N           10000337          HORMONES  \n",
       "3             NaN           10000480         RITUXIMAB  \n",
       "4               N           10000533  HYDROXYCARBAMIDE  "
      ]
     },
     "execution_count": 11,
     "metadata": {},
     "output_type": "execute_result"
    }
   ],
   "source": [
    "print_df_summary(SIM_SACT_REGIMEN)"
   ]
  },
  {
   "cell_type": "code",
   "execution_count": 12,
   "metadata": {},
   "outputs": [
    {
     "name": "stdout",
     "output_type": "stream",
     "text": [
      "299727 rows\n",
      "5 columns\n",
      "\n",
      "MERGED_TUMOUR_ID                 int64\n",
      "MERGED_PATIENT_ID                int64\n",
      "CONSULTANT_SPECIALITY_CODE    category\n",
      "PRIMARY_DIAGNOSIS             category\n",
      "MORPHOLOGY_CLEAN              category\n",
      "dtype: object\n"
     ]
    },
    {
     "data": {
      "text/html": [
       "<div>\n",
       "<style scoped>\n",
       "    .dataframe tbody tr th:only-of-type {\n",
       "        vertical-align: middle;\n",
       "    }\n",
       "\n",
       "    .dataframe tbody tr th {\n",
       "        vertical-align: top;\n",
       "    }\n",
       "\n",
       "    .dataframe thead th {\n",
       "        text-align: right;\n",
       "    }\n",
       "</style>\n",
       "<table border=\"1\" class=\"dataframe\">\n",
       "  <thead>\n",
       "    <tr style=\"text-align: right;\">\n",
       "      <th></th>\n",
       "      <th>MERGED_TUMOUR_ID</th>\n",
       "      <th>MERGED_PATIENT_ID</th>\n",
       "      <th>CONSULTANT_SPECIALITY_CODE</th>\n",
       "      <th>PRIMARY_DIAGNOSIS</th>\n",
       "      <th>MORPHOLOGY_CLEAN</th>\n",
       "    </tr>\n",
       "  </thead>\n",
       "  <tbody>\n",
       "    <tr>\n",
       "      <th>0</th>\n",
       "      <td>10000001</td>\n",
       "      <td>10000235</td>\n",
       "      <td>101</td>\n",
       "      <td>C61</td>\n",
       "      <td>81403</td>\n",
       "    </tr>\n",
       "    <tr>\n",
       "      <th>1</th>\n",
       "      <td>10000002</td>\n",
       "      <td>10000315</td>\n",
       "      <td>101</td>\n",
       "      <td>C679</td>\n",
       "      <td>81403</td>\n",
       "    </tr>\n",
       "    <tr>\n",
       "      <th>2</th>\n",
       "      <td>10000003</td>\n",
       "      <td>10000337</td>\n",
       "      <td>100</td>\n",
       "      <td>C500</td>\n",
       "      <td>NaN</td>\n",
       "    </tr>\n",
       "    <tr>\n",
       "      <th>3</th>\n",
       "      <td>10000004</td>\n",
       "      <td>10000480</td>\n",
       "      <td>303</td>\n",
       "      <td>C829</td>\n",
       "      <td>NaN</td>\n",
       "    </tr>\n",
       "    <tr>\n",
       "      <th>4</th>\n",
       "      <td>10000005</td>\n",
       "      <td>10000533</td>\n",
       "      <td>823</td>\n",
       "      <td>D473</td>\n",
       "      <td>NaN</td>\n",
       "    </tr>\n",
       "  </tbody>\n",
       "</table>\n",
       "</div>"
      ],
      "text/plain": [
       "   MERGED_TUMOUR_ID  MERGED_PATIENT_ID CONSULTANT_SPECIALITY_CODE  \\\n",
       "0          10000001           10000235                        101   \n",
       "1          10000002           10000315                        101   \n",
       "2          10000003           10000337                        100   \n",
       "3          10000004           10000480                        303   \n",
       "4          10000005           10000533                        823   \n",
       "\n",
       "  PRIMARY_DIAGNOSIS MORPHOLOGY_CLEAN  \n",
       "0               C61            81403  \n",
       "1              C679            81403  \n",
       "2              C500              NaN  \n",
       "3              C829              NaN  \n",
       "4              D473              NaN  "
      ]
     },
     "execution_count": 12,
     "metadata": {},
     "output_type": "execute_result"
    }
   ],
   "source": [
    "print_df_summary(SIM_SACT_TUMOUR)"
   ]
  },
  {
   "cell_type": "markdown",
   "metadata": {},
   "source": [
    "<a id='run'></a>"
   ]
  },
  {
   "cell_type": "markdown",
   "metadata": {},
   "source": [
    "## Run example sql queries"
   ]
  },
  {
   "cell_type": "markdown",
   "metadata": {},
   "source": [
    "Examples from https://simulacrum.healthdatainsight.org.uk/query-examples/ "
   ]
  },
  {
   "cell_type": "code",
   "execution_count": 13,
   "metadata": {},
   "outputs": [],
   "source": [
    "from pandasql import PandaSQL\n",
    "pdsql = PandaSQL()"
   ]
  },
  {
   "cell_type": "markdown",
   "metadata": {},
   "source": [
    "__Example 1: Getting patients with cancers of the breast__  \n",
    "For this query we can simply query the SIM_AV_TUMOUR table, for convenience the patientid has been included in this table to facilitate counts of distinct patients.  "
   ]
  },
  {
   "cell_type": "code",
   "execution_count": 47,
   "metadata": {},
   "outputs": [
    {
     "name": "stdout",
     "output_type": "stream",
     "text": [
      "   COUNT(DISTINCT PATIENTID)\n",
      "0                     130547\n"
     ]
    }
   ],
   "source": [
    "query = \"\"\"\n",
    "SELECT COUNT(DISTINCT PATIENTID) FROM SIM_AV_TUMOUR\n",
    "WHERE SITE_ICD10_O2_3CHAR='C50'\n",
    "\"\"\"\n",
    "print(pdsql(query))"
   ]
  },
  {
   "cell_type": "code",
   "execution_count": 28,
   "metadata": {},
   "outputs": [
    {
     "data": {
      "text/plain": [
       "133907"
      ]
     },
     "execution_count": 28,
     "metadata": {},
     "output_type": "execute_result"
    }
   ],
   "source": [
    "SIM_AV_TUMOUR.query(\"SITE_ICD10_O2_3CHAR == 'C50'\").PATIENTID.count()"
   ]
  },
  {
   "cell_type": "code",
   "execution_count": 15,
   "metadata": {},
   "outputs": [
    {
     "data": {
      "text/plain": [
       "130547"
      ]
     },
     "execution_count": 15,
     "metadata": {},
     "output_type": "execute_result"
    }
   ],
   "source": [
    "site_C50 = SIM_AV_TUMOUR[SIM_AV_TUMOUR.SITE_ICD10_O2_3CHAR=='C50']\n",
    "distinct_patientid = site_C50.PATIENTID.unique()\n",
    "result = distinct_patientid.size\n",
    "result"
   ]
  },
  {
   "cell_type": "markdown",
   "metadata": {},
   "source": [
    "This query gives us all patients who had tumours arising in the anatomical site of breast as denoted by the high-level ICD code C50.x."
   ]
  },
  {
   "cell_type": "markdown",
   "metadata": {},
   "source": [
    "__Example 2: Getting patients with a certain morphology__  \n",
    "The SIM_AV_TUMOUR table also contains morphology codes so we can further classify breast cancers into distinct histological types.  For example:  "
   ]
  },
  {
   "cell_type": "code",
   "execution_count": 16,
   "metadata": {},
   "outputs": [
    {
     "name": "stdout",
     "output_type": "stream",
     "text": [
      "   COUNT(DISTINCT PATIENTID)\n",
      "0                      97326\n"
     ]
    }
   ],
   "source": [
    "query = \"\"\"\n",
    "SELECT COUNT(DISTINCT PATIENTID) FROM SIM_AV_TUMOUR\n",
    "WHERE SITE_ICD10_O2_3CHAR='C50' \n",
    "AND MORPH_ICD10_O2='8500' \n",
    "AND BEHAVIOUR_ICD10_O2='3' \n",
    "\"\"\"\n",
    "print(pdsql(query))"
   ]
  },
  {
   "cell_type": "code",
   "execution_count": 32,
   "metadata": {},
   "outputs": [
    {
     "data": {
      "text/plain": [
       "97326"
      ]
     },
     "execution_count": 32,
     "metadata": {},
     "output_type": "execute_result"
    }
   ],
   "source": [
    "SIM_AV_TUMOUR.query(\"SITE_ICD10_O2_3CHAR == 'C50' \\\n",
    "                    and MORPH_ICD10_O2 == '8500' \\\n",
    "                    and BEHAVIOUR_ICD10_O2 == '3'\").PATIENTID.nunique()"
   ]
  },
  {
   "cell_type": "markdown",
   "metadata": {},
   "source": [
    "The above code will count all patients with breast cancers who have a ductal carcinoma of unspecified type; which comprise the largest group of invasive breast cancers.  For looking up the right morphology codes for your question please see http://codes.iarc.fr/codegroup/2.\n",
    "\n",
    "If the codes are not known in advance, you can use the data to see which ones are used the most.tFor example:"
   ]
  },
  {
   "cell_type": "code",
   "execution_count": 18,
   "metadata": {},
   "outputs": [
    {
     "data": {
      "text/html": [
       "<div>\n",
       "<style scoped>\n",
       "    .dataframe tbody tr th:only-of-type {\n",
       "        vertical-align: middle;\n",
       "    }\n",
       "\n",
       "    .dataframe tbody tr th {\n",
       "        vertical-align: top;\n",
       "    }\n",
       "\n",
       "    .dataframe thead th {\n",
       "        text-align: right;\n",
       "    }\n",
       "</style>\n",
       "<table border=\"1\" class=\"dataframe\">\n",
       "  <thead>\n",
       "    <tr style=\"text-align: right;\">\n",
       "      <th></th>\n",
       "      <th>N</th>\n",
       "      <th>morphology</th>\n",
       "    </tr>\n",
       "  </thead>\n",
       "  <tbody>\n",
       "    <tr>\n",
       "      <th>0</th>\n",
       "      <td>97207</td>\n",
       "      <td>8500/3</td>\n",
       "    </tr>\n",
       "    <tr>\n",
       "      <th>1</th>\n",
       "      <td>16179</td>\n",
       "      <td>8520/3</td>\n",
       "    </tr>\n",
       "    <tr>\n",
       "      <th>2</th>\n",
       "      <td>2847</td>\n",
       "      <td>8480/3</td>\n",
       "    </tr>\n",
       "    <tr>\n",
       "      <th>3</th>\n",
       "      <td>2723</td>\n",
       "      <td>8522/3</td>\n",
       "    </tr>\n",
       "    <tr>\n",
       "      <th>4</th>\n",
       "      <td>2112</td>\n",
       "      <td>8140/3</td>\n",
       "    </tr>\n",
       "  </tbody>\n",
       "</table>\n",
       "</div>"
      ],
      "text/plain": [
       "       N morphology\n",
       "0  97207     8500/3\n",
       "1  16179     8520/3\n",
       "2   2847     8480/3\n",
       "3   2723     8522/3\n",
       "4   2112     8140/3"
      ]
     },
     "execution_count": 18,
     "metadata": {},
     "output_type": "execute_result"
    }
   ],
   "source": [
    "query = \"\"\"\n",
    "SELECT COUNT(DISTINCT PATIENTID) as N, MORPH_ICD10_O2|| '/' || BEHAVIOUR_ICD10_O2 as morphology\n",
    "FROM SIM_AV_TUMOUR\n",
    "WHERE SITE_ICD10_O2 LIKE 'C50%'\n",
    "GROUP BY morphology\n",
    "ORDER BY N DESC\n",
    "\"\"\"\n",
    "result = pdsql(query)\n",
    "result.head()"
   ]
  },
  {
   "cell_type": "code",
   "execution_count": 35,
   "metadata": {},
   "outputs": [
    {
     "data": {
      "text/plain": [
       "morphology\n",
       "8500/3    98297\n",
       "8520/3    16275\n",
       "8480/3     2849\n",
       "8522/3     2725\n",
       "8140/3     2113\n",
       "Name: TUMOURID, dtype: int64"
      ]
     },
     "execution_count": 35,
     "metadata": {},
     "output_type": "execute_result"
    }
   ],
   "source": [
    "SIM_AV_TUMOUR['morphology'] = (SIM_AV_TUMOUR.MORPH_ICD10_O2.astype(str) \n",
    "                               + '/' + SIM_AV_TUMOUR.BEHAVIOUR_ICD10_O2.astype(str))\n",
    "site_like_C50 = SIM_AV_TUMOUR[\n",
    "    SIM_AV_TUMOUR.SITE_ICD10_O2.astype(str).str.startswith('C50', na=False)]\n",
    "grouped = site_like_C50.groupby('morphology')\n",
    "count_patientid = grouped.PATIENTID.nunique()\n",
    "result = count_patientid.sort_values(ascending=False)\n",
    "result.head()"
   ]
  },
  {
   "cell_type": "markdown",
   "metadata": {},
   "source": [
    "__Example 3: Getting patients who have received systemic therapy__  \n",
    "The SIM_SACT… tables contain data on patients who have received systemic anti-cancer therapy.  If you are interested in broad treatment patterns and do not need morphology or other data items contained in the SIM_AV… registry tables then it is fairly straightforward to find treatment patterns for a particular tumor site.  Top level regimens are given in the SIM_SACT_REGIMEN table, and a patient could have multiple cycles of the same regimen and details of these are given in the SIM_SACT_CYCLE table.  The primary diagnosis of the tumour if given in the SIM_SACT_TUMOUR table and this can be linked to the above to get top regimens for a given tumour site.  \n",
    "\n",
    " For example to look at top 10 regimens for patients who have been diagnosed with lung cancers:"
   ]
  },
  {
   "cell_type": "code",
   "execution_count": 20,
   "metadata": {},
   "outputs": [
    {
     "name": "stdout",
     "output_type": "stream",
     "text": [
      "             BENCHMARK_GROUP     N\n",
      "0    CARBOPLATIN + ETOPOSIDE  5682\n",
      "1                   GEMCARBO  3992\n",
      "2   CARBOPLATIN + PEMETREXED  3505\n",
      "3     CISPLATIN + PEMETREXED  3244\n",
      "4    CISPLATIN + VINORELBINE  2636\n",
      "5  CARBOPLATIN + VINORELBINE  2141\n",
      "6                  DOCETAXEL  1449\n",
      "7                 PEMETREXED  1423\n",
      "8                  ERLOTINIB  1323\n",
      "9    CISPLATIN + GEMCITABINE  1139\n"
     ]
    }
   ],
   "source": [
    "query = \"\"\"\n",
    "SELECT R.BENCHMARK_GROUP, COUNT(DISTINCT R.MERGED_PATIENT_ID) as N\n",
    "FROM SIM_SACT_REGIMEN R INNER JOIN SIM_SACT_TUMOUR T ON R.MERGED_TUMOUR_ID=T.MERGED_TUMOUR_ID\n",
    "WHERE T.PRIMARY_DIAGNOSIS LIKE 'C34%'\n",
    "GROUP BY R.BENCHMARK_GROUP\n",
    "ORDER BY N DESC\n",
    "LIMIT 10\n",
    "\"\"\"\n",
    "print(pdsql(query))"
   ]
  },
  {
   "cell_type": "code",
   "execution_count": 21,
   "metadata": {},
   "outputs": [
    {
     "data": {
      "text/plain": [
       "BENCHMARK_GROUP\n",
       "CARBOPLATIN + ETOPOSIDE      5673\n",
       "GEMCARBO                     3986\n",
       "CARBOPLATIN + PEMETREXED     3499\n",
       "CISPLATIN + PEMETREXED       3242\n",
       "CISPLATIN + VINORELBINE      2635\n",
       "CARBOPLATIN + VINORELBINE    2137\n",
       "DOCETAXEL                    1449\n",
       "PEMETREXED                   1423\n",
       "ERLOTINIB                    1323\n",
       "CISPLATIN + GEMCITABINE      1137\n",
       "Name: MERGED_PATIENT_ID_x, dtype: int64"
      ]
     },
     "execution_count": 21,
     "metadata": {},
     "output_type": "execute_result"
    }
   ],
   "source": [
    "joined = pd.merge(SIM_SACT_REGIMEN, SIM_SACT_TUMOUR, how='inner',\n",
    "                 on='MERGED_TUMOUR_ID')\n",
    "primary_diagnosis_C34 = joined[joined['PRIMARY_DIAGNOSIS'].astype(str).str.startswith('C34', na=False)]\n",
    "grouped = primary_diagnosis_C34.groupby('BENCHMARK_GROUP')\n",
    "count_patientid = grouped.MERGED_PATIENT_ID_x.nunique()\n",
    "result = count_patientid.sort_values(ascending=False)[:10]\n",
    "result"
   ]
  },
  {
   "cell_type": "markdown",
   "metadata": {},
   "source": [
    "BENCHMARK_GROUP is the field which contains the regimen name used in most analyses.  The SIM_SACT_REGIMEN tables also contains details of height and weight at start of regimen, treatment intent, if the regimen was part of chemoradiation and if the regimen was part of a clinical trial.  Note: The numbers above represent all lung cancer patients of all stages so regimens included could also be used for neo-adjuvant or adjuvant treatment as part of other treatment modalities."
   ]
  },
  {
   "cell_type": "markdown",
   "metadata": {},
   "source": [
    "__Linking SIM_AV and SIM_SACT datasets__  \n",
    "If we do want to look at regimens for specific tumor morphologies or for specific stages we need to link the SIM_SACT_PATIENT table to the SIM_AV_PATIENT table via the linknumber field.  This is the only way to link the simulated SACT tables with the simulated registry tables.  NOTE: ‘tumourid’ in the SIM_AV_TUMOUR table and ‘merged_tumour_id’ in the SIM_SACT_TUMOUR table do not match and should not be used to link these two datasets together.  They are different ids in the real CAS data also.  \n",
    "\n",
    "Here is an example if we want to count all urothelial cancer patients who have received systemic therapy (i.e. have at least 1 record in SACT):"
   ]
  },
  {
   "cell_type": "code",
   "execution_count": 22,
   "metadata": {},
   "outputs": [
    {
     "name": "stdout",
     "output_type": "stream",
     "text": [
      "   NUM_PATIENTS\n",
      "0          3792\n"
     ]
    }
   ],
   "source": [
    "query = \"\"\"\n",
    "SELECT COUNT(DISTINCT AVP.PATIENTID) AS NUM_PATIENTS\n",
    "FROM SIM_AV_TUMOUR AVT JOIN SIM_AV_PATIENT AVP ON AVT.PATIENTID=AVP.PATIENTID\n",
    "WHERE AVP.LINKNUMBER IN\n",
    "(SELECT DISTINCT LINK_NUMBER FROM SIM_SACT_PATIENT)\n",
    "AND AVT.SITE_ICD10_O2_3CHAR IN ('C64','C65','C66','C67','C68')\n",
    "AND AVT.MORPH_ICD10_O2='8120'\n",
    "AND AVT.BEHAVIOUR_ICD10_O2='3'\n",
    "\"\"\"\n",
    "print(pdsql(query))"
   ]
  },
  {
   "cell_type": "code",
   "execution_count": 23,
   "metadata": {},
   "outputs": [
    {
     "data": {
      "text/plain": [
       "3792"
      ]
     },
     "execution_count": 23,
     "metadata": {},
     "output_type": "execute_result"
    }
   ],
   "source": [
    "joined = pd.merge(SIM_AV_TUMOUR, SIM_AV_PATIENT, on='PATIENTID')\n",
    "linknumber = joined[joined.LINKNUMBER_y.isin(SIM_SACT_PATIENT.LINK_NUMBER.unique())]\n",
    "site = linknumber[linknumber.SITE_ICD10_O2_3CHAR.isin(['C64','C65','C66','C67','C68'])]\n",
    "morph = site[site.MORPH_ICD10_O2=='8120']\n",
    "behaviour = morph[morph.BEHAVIOUR_ICD10_O2=='3']\n",
    "result = behaviour.PATIENTID.nunique()\n",
    "result"
   ]
  },
  {
   "cell_type": "markdown",
   "metadata": {},
   "source": [
    "Note: Here we are specifying a morphology code of ‘8120/3’ for urothelial carcinoma and the multiple anatomical sites where it arises in the body (C64-C68).  This count can give an indication as to the number of patients with the specific histology etc. that have had systemic anti-cancer therapy.  The actual number of patients will most likely be higher in the real CAS data."
   ]
  }
 ],
 "metadata": {
  "kernelspec": {
   "display_name": "Python 3",
   "language": "python",
   "name": "python3"
  },
  "language_info": {
   "codemirror_mode": {
    "name": "ipython",
    "version": 3
   },
   "file_extension": ".py",
   "mimetype": "text/x-python",
   "name": "python",
   "nbconvert_exporter": "python",
   "pygments_lexer": "ipython3",
   "version": "3.6.7"
  }
 },
 "nbformat": 4,
 "nbformat_minor": 2
}
