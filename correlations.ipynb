{
 "cells": [
  {
   "cell_type": "markdown",
   "metadata": {},
   "source": [
    "# Correlations"
   ]
  },
  {
   "cell_type": "markdown",
   "metadata": {},
   "source": [
    "This notebook is for looking at various methods of investagiting correlation within the data."
   ]
  },
  {
   "cell_type": "code",
   "execution_count": 116,
   "metadata": {},
   "outputs": [],
   "source": [
    "import pandas as pd\n",
    "import matplotlib.pyplot as plt\n",
    "import seaborn as sns\n",
    "import numpy as np\n",
    "import scipy.stats as stats\n",
    "\n",
    "import plotly.plotly as py\n",
    "import plotly.graph_objs as go\n",
    "import plotly.tools as tls\n",
    "\n",
    "import load\n",
    "import descriptions as desc"
   ]
  },
  {
   "cell_type": "markdown",
   "metadata": {},
   "source": [
    "Load in datasets and show top 10 most common / deadly cancers as useful reference"
   ]
  },
  {
   "cell_type": "code",
   "execution_count": 117,
   "metadata": {},
   "outputs": [],
   "source": [
    "df_av_patient = load.load_table('av_patient', add_descriptions=True) \n",
    "# add_descriptions=True adds columns of descriptions to the codes"
   ]
  },
  {
   "cell_type": "code",
   "execution_count": 118,
   "metadata": {},
   "outputs": [],
   "source": [
    "df_av_tumour = load.load_table('av_tumour', add_descriptions=True)"
   ]
  },
  {
   "cell_type": "code",
   "execution_count": 119,
   "metadata": {},
   "outputs": [],
   "source": [
    "df_dead = df_av_patient[df_av_patient[\"NEWVITALSTATUS\"] == \"D\"]\n",
    "vc_loc_dead = df_dead[\"DEATHLOCATIONCODE\"].value_counts()"
   ]
  },
  {
   "cell_type": "code",
   "execution_count": 120,
   "metadata": {},
   "outputs": [
    {
     "name": "stdout",
     "output_type": "stream",
     "text": [
      "---------------------------\n",
      "Top ten most common cancers\n",
      "---------------------------\n",
      "C44 -- Other malignant neoplasms of skin\n",
      "C50 -- Malignant neoplasm of breast\n",
      "C61 -- Malignant neoplasm of prostate\n",
      "C34 -- Malignant neoplasm of bronchus and lung\n",
      "D06 -- Carcinoma in situ of cervix uteri\n",
      "C18 -- Malignant neoplasm of colon\n",
      "C43 -- Malignant melanoma of skin\n",
      "C20 -- Malignant neoplasm of rectum\n",
      "C64 -- Malignant neoplasm of kidney, except renal pelvis\n",
      "D09 -- Carcinoma in situ of other and unspecified sites\n"
     ]
    }
   ],
   "source": [
    "vc_cancers = df_av_tumour['SITE_ICD10_O2_3CHAR'].value_counts()\n",
    "topTenCancers = vc_cancers[:10].keys()\n",
    "\n",
    "print(\"---------------------------\")\n",
    "print(\"Top ten most common cancers\")\n",
    "print(\"---------------------------\")\n",
    "for i in topTenCancers:\n",
    "    print(i + ' -- ' + desc.get_deathcause_description(i)[0])"
   ]
  },
  {
   "cell_type": "code",
   "execution_count": 121,
   "metadata": {},
   "outputs": [
    {
     "name": "stdout",
     "output_type": "stream",
     "text": [
      "---------------------------\n",
      "Top ten deadliest cancers\n",
      "---------------------------\n",
      "C349 -- Bronchus or lung, unspecified\n",
      "C259 -- Pancreas, unspecified\n",
      "C159 -- Oesophagus, unspecified\n",
      "C800 -- \n",
      "C719 -- Brain, unspecified\n",
      "C169 -- Stomach, unspecified\n",
      "C189 -- Colon, unspecified\n",
      "C221 -- Intrahepatic bile duct carcinoma\n",
      "C679 -- Bladder, unspecified\n",
      "C809 -- \n"
     ]
    }
   ],
   "source": [
    "vc_dead = df_dead[\"DEATHCAUSECODE_UNDERLYING\"].value_counts(dropna=True)\n",
    "topTenDeadliest = vc_dead[:10].keys()\n",
    "\n",
    "print(\"---------------------------\")\n",
    "print(\"Top ten deadliest cancers\")\n",
    "print(\"---------------------------\")\n",
    "for i in topTenDeadliest:\n",
    "    print(i + ' -- ' + desc.get_deathcause_description(i)[0])\n",
    "    \n",
    "# C80 appears twice, once as C800 (site unknown) and the \n",
    "# other as C809 (site unspecified). "
   ]
  },
  {
   "cell_type": "markdown",
   "metadata": {},
   "source": [
    "Define some functions"
   ]
  },
  {
   "cell_type": "code",
   "execution_count": 122,
   "metadata": {},
   "outputs": [],
   "source": [
    "def fisher(dataset, var1, var2):\n",
    "    \n",
    "    \"\"\"\n",
    "    Description\n",
    "    -----------\n",
    "    Perform Fisher's Exacr test to see if there is a correlation between\n",
    "    var1[0] having value var1[1] and var2[0] having value var2[1].\n",
    "    \n",
    "    Arguments\n",
    "    -----------  \n",
    "    dataset [df] - \n",
    "    var1  [list] - Name and value of variable 1 (e.g. [\"DEATHCAUSECODE_UNDERLYING\", \"C30\"] )\n",
    "    var2  [list] - Similar to var 1 (e.g. [\"DEATHLOCATIONCODE\", \"5\"])\n",
    "    \n",
    "    \n",
    "    Example Usage\n",
    "    ----------- \n",
    "    fisher(, , )\n",
    "    \"\"\"\n",
    "    \n",
    "    var1_name = var1[0]\n",
    "    var1_value = var1[1]\n",
    "    \n",
    "    var2_name = var2[0]\n",
    "    var2_value = var2[1]\n",
    "    \n",
    "    # Names below follow convention used here: \n",
    "    #     https://www.sheffield.ac.uk/polopoly_fs/1.43998!/file/tutorial-9-fishers.pdf\n",
    "    \n",
    "    a = dataset[(dataset[var1_name] == var1_value) & (dataset[var2_name] == var2_value)].shape[0]\n",
    "    b = dataset[(dataset[var1_name] != var1_value) & (dataset[var2_name] == var2_value)].shape[0]\n",
    "    c = dataset[(dataset[var1_name] == var1_value) & (dataset[var2_name] != var2_value)].shape[0]\n",
    "    d = dataset[(dataset[var1_name] != var1_value) & (dataset[var2_name] != var2_value)].shape[0]\n",
    "    \n",
    "    if (a!=0) and (b!=0) and (c!=0) and (d!=0):\n",
    "        oddsratio, pvalue = stats.fisher_exact([[a, b], [c, d]])\n",
    "        #print(str(a) + \",\" + str(b) + ',' + str(c) + ',' + str(d))\n",
    "        return pvalue\n",
    "    \n",
    "    else:\n",
    "        return \"NaN\""
   ]
  },
  {
   "cell_type": "code",
   "execution_count": 123,
   "metadata": {},
   "outputs": [
    {
     "name": "stdout",
     "output_type": "stream",
     "text": [
      "Location: HOSPITAL (1)\n",
      "p-value: 1.3352191287300447e-234\n",
      "--------\n",
      "Location: PRIVATE HOME (2)\n",
      "p-value: 0.0\n",
      "--------\n",
      "Location: HOSPICE NOS (3)\n",
      "p-value: 0.7952674113427535\n",
      "--------\n",
      "Location: NURSING HOME (4)\n",
      "p-value: 0.0\n",
      "--------\n",
      "Location: NHS HOSPICE / SPECIALIST PALLIATIVE CARE UNIT (4077)\n",
      "p-value: NaN\n",
      "--------\n",
      "Location: VOLUNTARY HOSPICE / SPECIALIST PALLIATIVE CARE UNIT (4087)\n",
      "p-value: NaN\n",
      "--------\n",
      "Location: CARE HOME (4097)\n",
      "p-value: NaN\n",
      "--------\n",
      "Location: PATIENT\"S OWN HOME (4107)\n",
      "p-value: NaN\n",
      "--------\n",
      "Location: OTHER PRIVATE RESIDENCE (E.G. RELATIVES HOME, CARERS HOME) (4117)\n",
      "p-value: NaN\n",
      "--------\n",
      "Location: CARE HOME WITH NURSING (4127)\n",
      "p-value: NaN\n",
      "--------\n",
      "Location: CARE HOME WITHOUT NURSING (4137)\n",
      "p-value: NaN\n",
      "--------\n",
      "Location: OTHER (5)\n",
      "p-value: 1.1524342982259484e-16\n",
      "--------\n",
      "Location: UNKNOWN (X)\n",
      "p-value: 4.382751374553357e-137\n",
      "--------\n"
     ]
    }
   ],
   "source": [
    "# Investigate death location of pancreatic cancer patients (C259)\n",
    "location_codes = [\"1\", \"2\", \"3\", \"4\", \"4077\", \"4087\", \"4097\",\n",
    "                  \"4107\", \"4117\", \"4127\", \"4137\", \"5\", \"X\"]\n",
    "\n",
    "for location in location_codes:\n",
    "    pvalue = fisher(df_dead, [\"DEATHCAUSECODE_UNDERLYING\", \"C259\"], [\"DEATHLOCATIONCODE\", location])\n",
    "    print(\"Location: \" + desc.get_descriptions(location, \"deathlocation\")[0] + \" (\" + location + \")\" )\n",
    "    print(\"p-value: \" + str(pvalue))\n",
    "    print(\"--------\")"
   ]
  },
  {
   "cell_type": "code",
   "execution_count": 124,
   "metadata": {},
   "outputs": [],
   "source": [
    "def cancers_by_deathlocation(locationCode):\n",
    "\n",
    "    \"\"\"\n",
    "    Description\n",
    "    -----------\n",
    "    Returns the number of patients who died of different cancers at locationCode\n",
    "\n",
    "    i.e. cancers_by_deathlocation(\"2\") returns number of deaths by cancer for\n",
    "    patients who died at PRIVATE HOME\n",
    "\n",
    "    Arguments\n",
    "    -----------\n",
    "    locationCode [str] - Location code, refer to lookup_tables/zdeathlocation.csv\n",
    "    \"\"\"\n",
    "    \n",
    "    \n",
    "    df_diedAtLoc = df_dead[df_dead[\"DEATHLOCATIONCODE\"] == locationCode]\n",
    "    vc_diedAtLoc = df_diedAtLoc[\"DEATHCAUSECODE_UNDERLYING\"].value_counts(dropna=True)\n",
    "    \n",
    "    return vc_diedAtLoc"
   ]
  },
  {
   "cell_type": "code",
   "execution_count": 125,
   "metadata": {},
   "outputs": [
    {
     "data": {
      "text/plain": [
       "4    4815\n",
       "1    4306\n",
       "2    2311\n",
       "X    1186\n",
       "5     477\n",
       "6     239\n",
       "3      14\n",
       "Name: DEATHLOCATIONCODE, dtype: int64"
      ]
     },
     "execution_count": 125,
     "metadata": {},
     "output_type": "execute_result"
    }
   ],
   "source": [
    "df_dead[df_dead[\"DEATHCAUSECODE_UNDERLYING\"] == \"C259\"][\"DEATHLOCATIONCODE\"].value_counts()"
   ]
  },
  {
   "cell_type": "code",
   "execution_count": null,
   "metadata": {},
   "outputs": [],
   "source": []
  }
 ],
 "metadata": {
  "kernelspec": {
   "display_name": "Python 3",
   "language": "python",
   "name": "python3"
  },
  "language_info": {
   "codemirror_mode": {
    "name": "ipython",
    "version": 3
   },
   "file_extension": ".py",
   "mimetype": "text/x-python",
   "name": "python",
   "nbconvert_exporter": "python",
   "pygments_lexer": "ipython3",
   "version": "3.7.1"
  }
 },
 "nbformat": 4,
 "nbformat_minor": 2
}
