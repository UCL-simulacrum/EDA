{
 "cells": [
  {
   "cell_type": "markdown",
   "metadata": {},
   "source": [
    "# Correlations"
   ]
  },
  {
   "cell_type": "markdown",
   "metadata": {},
   "source": [
    "This notebook is for looking at various methods of investagiting correlation within the data."
   ]
  },
  {
   "cell_type": "code",
   "execution_count": 26,
   "metadata": {},
   "outputs": [],
   "source": [
    "import pandas as pd\n",
    "import matplotlib.pyplot as plt\n",
    "import seaborn as sns\n",
    "import numpy as np\n",
    "import scipy.stats as stats\n",
    "\n",
    "import plotly.plotly as py\n",
    "import plotly.graph_objs as go\n",
    "import plotly.tools as tls\n",
    "\n",
    "import load\n",
    "import descriptions as desc"
   ]
  },
  {
   "cell_type": "markdown",
   "metadata": {},
   "source": [
    "Load in datasets and show top 10 most common / deadly cancers as useful reference"
   ]
  },
  {
   "cell_type": "code",
   "execution_count": 27,
   "metadata": {},
   "outputs": [],
   "source": [
    "df_av_patient = load.load_table('av_patient', add_descriptions=True) \n",
    "# add_descriptions=True adds columns of descriptions to the codes"
   ]
  },
  {
   "cell_type": "code",
   "execution_count": 28,
   "metadata": {},
   "outputs": [],
   "source": [
    "df_av_tumour = load.load_table('av_tumour', add_descriptions=True)"
   ]
  },
  {
   "cell_type": "code",
   "execution_count": 29,
   "metadata": {},
   "outputs": [],
   "source": [
    "df_dead = df_av_patient[df_av_patient[\"NEWVITALSTATUS\"] == \"D\"]\n",
    "vc_loc_dead = df_dead[\"DEATHLOCATIONCODE\"].value_counts()"
   ]
  },
  {
   "cell_type": "code",
   "execution_count": 30,
   "metadata": {},
   "outputs": [
    {
     "name": "stdout",
     "output_type": "stream",
     "text": [
      "---------------------------\n",
      "Top ten most common cancers\n",
      "---------------------------\n",
      "C44 -- Other malignant neoplasms of skin\n",
      "C50 -- Malignant neoplasm of breast\n",
      "C61 -- Malignant neoplasm of prostate\n",
      "C34 -- Malignant neoplasm of bronchus and lung\n",
      "D06 -- Carcinoma in situ of cervix uteri\n",
      "C18 -- Malignant neoplasm of colon\n",
      "C43 -- Malignant melanoma of skin\n",
      "C20 -- Malignant neoplasm of rectum\n",
      "C64 -- Malignant neoplasm of kidney, except renal pelvis\n",
      "D09 -- Carcinoma in situ of other and unspecified sites\n"
     ]
    }
   ],
   "source": [
    "vc_cancers = df_av_tumour['SITE_ICD10_O2_3CHAR'].value_counts()\n",
    "topTenCancers = vc_cancers[:10].keys()\n",
    "\n",
    "print(\"---------------------------\")\n",
    "print(\"Top ten most common cancers\")\n",
    "print(\"---------------------------\")\n",
    "for i in topTenCancers:\n",
    "    print(i + ' -- ' + desc.get_deathcause_description(i)[0])"
   ]
  },
  {
   "cell_type": "code",
   "execution_count": 32,
   "metadata": {},
   "outputs": [
    {
     "name": "stdout",
     "output_type": "stream",
     "text": [
      "---------------------------\n",
      "Top ten deadliest cancers\n",
      "---------------------------\n",
      "C34 -- Malignant neoplasm of bronchus and lung\n",
      "C25 -- Malignant neoplasm of pancreas\n",
      "C15 -- Malignant neoplasm of oesophagus\n",
      "C80 -- Malignant neoplasm without specification of site\n",
      "C71 -- Malignant neoplasm of brain\n",
      "C16 -- Malignant neoplasm of stomach\n",
      "C18 -- Malignant neoplasm of colon\n",
      "C22 -- Malignant neoplasm of liver and intrahepatic bile ducts\n",
      "C67 -- Malignant neoplasm of bladder\n",
      "C80 -- Malignant neoplasm without specification of site\n"
     ]
    }
   ],
   "source": [
    "vc_dead = df_dead[\"DEATHCAUSECODE_UNDERLYING\"].value_counts(dropna=True)\n",
    "topTenDeadliest = vc_dead[:10].keys()\n",
    "\n",
    "print(\"---------------------------\")\n",
    "print(\"Top ten deadliest cancers\")\n",
    "print(\"---------------------------\")\n",
    "for i in topTenDeadliest:\n",
    "    print(i[:3] + ' -- ' + desc.get_deathcause_description(i[:3])[0])\n",
    "    \n",
    "# C80 appears twice, once as C800 (site unknown) and the \n",
    "# other as C809 (site unspecified). "
   ]
  },
  {
   "cell_type": "markdown",
   "metadata": {},
   "source": [
    "Define some functions"
   ]
  },
  {
   "cell_type": "code",
   "execution_count": 34,
   "metadata": {},
   "outputs": [],
   "source": [
    "def fisher(dataset, var1, var2):\n",
    "    \n",
    "    \"\"\"\n",
    "    Description\n",
    "    -----------\n",
    "    Perform Fisher's Exacr test to see if there is a correlation between\n",
    "    var1[0] having value var1[1] and var2[0] having value var2[1].\n",
    "    \n",
    "    Arguments\n",
    "    -----------  \n",
    "    dataset [df] - \n",
    "    var1  [list] - Name and value of variable 1 (e.g. [\"DEATHCAUSECODE_UNDERLYING\", \"C30\"] )\n",
    "    var2  [list] - Similar to var 1 (e.g. [\"DEATHLOCATIONCODE\", \"5\"])\n",
    "    \n",
    "    Example Usage\n",
    "    ----------- \n",
    "    fisher(, , )\n",
    "    \"\"\"\n",
    "    \n",
    "    var1_name = var1[0]\n",
    "    var1_value = var1[1]\n",
    "    \n",
    "    var2_name = var2[0]\n",
    "    var2_value = var2[1]\n",
    "    \n",
    "    # Names below follow convention used here: \n",
    "    #     https://www.sheffield.ac.uk/polopoly_fs/1.43998!/file/tutorial-9-fishers.pdf\n",
    "    \n",
    "    a = dataset.query(\"@var1_name == @var1_value & @var2_name == @var2_value\").shape[0]\n",
    "    b = dataset.query(\"@var1_name != @var1_value & @var2_name == @var2_value\").shape[0]\n",
    "    c = dataset.query(\"@var1_name == @var1_value & @var2_name != @var2_value\").shape[0]\n",
    "    d = dataset.query(\"@var1_name != @var1_value & @var2_name != @var2_value\").shape[0]\n",
    "    \n",
    "    oddsratio, pvalue = stats.fisher_exact([[a, b], [c, d]])\n",
    "    return pvalue"
   ]
  },
  {
   "cell_type": "code",
   "execution_count": 35,
   "metadata": {},
   "outputs": [
    {
     "data": {
      "text/plain": [
       "1.0"
      ]
     },
     "execution_count": 35,
     "metadata": {},
     "output_type": "execute_result"
    }
   ],
   "source": [
    "fisher(df_av_patient, [\"DEATHCAUSECODE_UNDERLYING\", \"C349\"], [\"DEATHLOCATIONCODE\", \"5\"])"
   ]
  },
  {
   "cell_type": "code",
   "execution_count": 9,
   "metadata": {},
   "outputs": [],
   "source": [
    "def cancers_by_deathlocation(locationCode):\n",
    "\n",
    "    \"\"\"\n",
    "    Description\n",
    "    -----------\n",
    "    Returns the number of patients who died of different cancers at locationCode\n",
    "\n",
    "    i.e. cancers_by_deathlocation(\"2\") returns number of deaths by cancer for\n",
    "    patients who died at PRIVATE HOME\n",
    "\n",
    "    Arguments\n",
    "    -----------\n",
    "    locationCode [str] - Location code, refer to lookup_tables/zdeathlocation.csv\n",
    "    \"\"\"\n",
    "    \n",
    "    \n",
    "    df_diedAtLoc = df_dead[df_dead[\"DEATHLOCATIONCODE\"] == locationCode]\n",
    "    vc_diedAtLoc = df_diedAtLoc[\"DEATHCAUSECODE_UNDERLYING\"].value_counts(dropna=True)\n",
    "    \n",
    "    return vc_diedAtLoc"
   ]
  },
  {
   "cell_type": "code",
   "execution_count": 44,
   "metadata": {},
   "outputs": [
    {
     "name": "stdout",
     "output_type": "stream",
     "text": [
      "Total size of subset: 7055\n",
      "Total size of general population: 148399\n",
      "--------------------------------------\n",
      "C349: Bronchus or lung, unspecified --- Patients in subset: 2049, z-score: -0.7269182478869998\n",
      "C259: Pancreas, unspecified --- Patients in subset: 477, z-score: -7.236583081601007\n",
      "C719: Brain, unspecified --- Patients in subset: 450, z-score: 10.890731271635458\n",
      "C159: Oesophagus, unspecified --- Patients in subset: 413, z-score: -2.057944328517344\n",
      "C800:  --- Patients in subset: 262, z-score: 0.44955311178567464\n",
      "C189: Colon, unspecified --- Patients in subset: 231, z-score: 4.119478839163136\n",
      "C169: Stomach, unspecified --- Patients in subset: 203, z-score: -0.8407805470173629\n",
      "C679: Bladder, unspecified --- Patients in subset: 203, z-score: 3.6170595150743234\n",
      "C221: Intrahepatic bile duct carcinoma --- Patients in subset: 143, z-score: -0.9424229205668775\n",
      "C80: Malignant neoplasm without specification of site --- Patients in subset: 133, z-score: 0.3858472543921058\n",
      "C61: Malignant neoplasm of prostate --- Patients in subset: 131, z-score: 3.8443349407684617\n",
      "C809:  --- Patients in subset: 125, z-score: -0.9681214966512746\n",
      "C64: Malignant neoplasm of kidney, except renal pelvis --- Patients in subset: 110, z-score: 1.5674735044393888\n",
      "C260: Intestinal tract, part unspecified --- Patients in subset: 106, z-score: 2.7782327033096217\n",
      "C20: Malignant neoplasm of rectum --- Patients in subset: 103, z-score: 2.8179159790654786\n",
      "C56: Malignant neoplasm of ovary --- Patients in subset: 103, z-score: 1.098767071671348\n",
      "C509: Breast, unspecified --- Patients in subset: 92, z-score: 3.4555581582105703\n",
      "C220: Liver cell carcinoma --- Patients in subset: 91, z-score: -4.39482322077989\n",
      "C900: Multiple myeloma --- Patients in subset: 74, z-score: 2.445804133139187\n",
      "F03: Unspecified dementia --- Patients in subset: 73, z-score: 5.873176173265318\n",
      "C459: Mesothelioma, unspecified --- Patients in subset: 72, z-score: -5.588779674323063\n",
      "C180: Caecum --- Patients in subset: 66, z-score: 2.330695025161701\n",
      "C19: Malignant neoplasm of rectosigmoid junction --- Patients in subset: 64, z-score: -0.15918149717990104\n",
      "D469: Myelodysplastic syndrome, unspecified --- Patients in subset: 55, z-score: 1.9673638922177363\n",
      "D432: Brain, unspecified --- Patients in subset: 48, z-score: 4.3687083994031015\n",
      "C859: Non-Hodgkin's lymphoma, unspecified type --- Patients in subset: 45, z-score: 0.24489931090036987\n",
      "C920: Acute myeloid leukaemia --- Patients in subset: 43, z-score: -10.871313034175135\n",
      "I64: Stroke, not specified as haemorrhage or infarction --- Patients in subset: 35, z-score: 0.1945519477609737\n",
      "C187: Sigmoid colon --- Patients in subset: 34, z-score: -0.4388370961905385\n",
      "F019: Vascular dementia, unspecified --- Patients in subset: 31, z-score: 3.9795901468407306\n",
      "G309: Alzheimer's disease, unspecified --- Patients in subset: 29, z-score: 3.698998480742356\n",
      "I259: Chronic ischaemic heart disease, unspecified --- Patients in subset: 28, z-score: -3.0909029875977425\n",
      "C229: Liver, unspecified --- Patients in subset: 26, z-score: -0.15943926333655506\n",
      "C23: Malignant neoplasm of gallbladder --- Patients in subset: 26, z-score: -2.2012876182080543\n",
      "C269: Ill-defined sites within the digestive system --- Patients in subset: 25, z-score: 1.5105088309220414\n",
      "C541: Endometrium --- Patients in subset: 25, z-score: 0.7593649552894561\n",
      "C762: Abdomen --- Patients in subset: 24, z-score: 2.0944612671642173\n",
      "C439: Malignant melanoma of skin, unspecified --- Patients in subset: 22, z-score: -0.8740957839536083\n",
      "C450: Mesothelioma of pleura --- Patients in subset: 22, z-score: 1.1429129541367933\n",
      "G20: Parkinson's disease --- Patients in subset: 22, z-score: 3.4944005281919353\n",
      "J449: Chronic obstructive pulmonary disease, unspecified --- Patients in subset: 21, z-score: -0.34518950169029633\n",
      "C710: Cerebrum, except lobes and ventricles --- Patients in subset: 21, z-score: 2.3417393107967546\n",
      "C341: Upper lobe, bronchus or lung --- Patients in subset: 21, z-score: 1.9475180950650637\n",
      "C329: Larynx, unspecified --- Patients in subset: 17, z-score: 0.39881035687650085\n",
      "D430: Brain, supratentorial --- Patients in subset: 15, z-score: 2.461361878245264\n",
      "I679: Cerebrovascular disease, unspecified --- Patients in subset: 15, z-score: 2.547286663251656\n",
      "C851: B-cell lymphoma, unspecified --- Patients in subset: 15, z-score: -0.9510795834371571\n",
      "C55: Malignant neoplasm of uterus, part unspecified --- Patients in subset: 15, z-score: 1.4057145195953065\n",
      "C029: Tongue, unspecified --- Patients in subset: 15, z-score: -0.263681303386022\n",
      "C911: Chronic lymphocytic leukaemia --- Patients in subset: 14, z-score: 0.9717929170073688\n",
      "C160: Cardia --- Patients in subset: 13, z-score: -4.872681582066257\n",
      "I219: Acute myocardial infarction, unspecified --- Patients in subset: 12, z-score: -9.683330277493706\n",
      "J988: Other specified respiratory disorders --- Patients in subset: 11, z-score: 2.5999209931613074\n",
      "C539: Cervix uteri, unspecified --- Patients in subset: 11, z-score: -0.45323718288552656\n",
      "C519: Vulva, unspecified --- Patients in subset: 11, z-score: 0.636152588849494\n",
      "J440: Chronic obstructive pulmonary disease with acute lower respiratory infection --- Patients in subset: 11, z-score: -7.161584724622232\n",
      "C499: Connective and soft tissue, unspecified --- Patients in subset: 10, z-score: -1.889047448407784\n",
      "C97: Malignant neoplasms of independent (primary) multiple sites --- Patients in subset: 10, z-score: 1.2529970387720317\n",
      "C711: Frontal lobe --- Patients in subset: 10, z-score: 2.0497834398272006\n",
      "C921: Chronic myeloid leukaemia --- Patients in subset: 9, z-score: 0.369411743565208\n",
      "C712: Temporal lobe --- Patients in subset: 9, z-score: 1.8273281266495507\n",
      "C249: Biliary tract, unspecified --- Patients in subset: 8, z-score: 0.27358164777799565\n",
      "D381: Trachea, bronchus and lung --- Patients in subset: 8, z-score: 1.298881477350758\n",
      "C482: Peritoneum, unspecified --- Patients in subset: 8, z-score: -2.1972228595530865\n",
      "C170: Duodenum --- Patients in subset: 8, z-score: -1.2055394178351693\n",
      "C763: Pelvis --- Patients in subset: 8, z-score: 1.4669634166249814\n",
      "C210: Anus, unspecified --- Patients in subset: 8, z-score: 0.8786766291651995\n",
      "C240: Extrahepatic bile duct --- Patients in subset: 8, z-score: 1.2484568955684907\n",
      "C069: Mouth, unspecified --- Patients in subset: 8, z-score: -0.26428055789951904\n",
      "C109: Oropharynx, unspecified --- Patients in subset: 8, z-score: -0.314705139681786\n",
      "R54: Senility --- Patients in subset: 7, z-score: 1.8371591300619932\n",
      "I251: Atherosclerotic heart disease --- Patients in subset: 7, z-score: -5.58392022002851\n",
      "J180: Bronchopneumonia, unspecified --- Patients in subset: 7, z-score: 0.5613803555912288\n",
      "I739: Peripheral vascular disease, unspecified --- Patients in subset: 6, z-score: 0.10106964294470894\n",
      "K746: Other and unspecified cirrhosis of liver --- Patients in subset: 6, z-score: 0.06225278179035398\n",
      "C140: Pharynx, unspecified --- Patients in subset: 6, z-score: -0.07360623224988821\n",
      "J439: Emphysema, unspecified --- Patients in subset: 6, z-score: 0.4892382544882575\n",
      "I500: Congestive heart failure --- Patients in subset: 6, z-score: 0.04284435121317631\n",
      "C931: Chronic monocytic leukaemia --- Patients in subset: 6, z-score: -0.6946760107195659\n",
      "C250: Head of pancreas --- Patients in subset: 6, z-score: -0.869351885914163\n",
      "C66: Malignant neoplasm of ureter --- Patients in subset: 5, z-score: -1.5483669654101506\n",
      "C579: Female genital organ, unspecified --- Patients in subset: 5, z-score: 1.236807065607839\n",
      "C795: Secondary malignant neoplasm of bone and bone marrow --- Patients in subset: 5, z-score: 1.8958940500472106\n",
      "C383: Mediastinum, part unspecified --- Patients in subset: 5, z-score: 1.34311141793677\n",
      "C419: Bone and articular cartilage, unspecified --- Patients in subset: 5, z-score: 1.1730244542104806\n",
      "J22: Unspecified acute lower respiratory infection --- Patients in subset: 5, z-score: 1.6407636044577767\n",
      "I639: Cerebral infarction, unspecified --- Patients in subset: 4, z-score: -1.5417859958625062\n",
      "C33: Malignant neoplasm of trachea --- Patients in subset: 4, z-score: 1.6434443628326336\n",
      "J40: Bronchitis, not specified as acute or chronic --- Patients in subset: 4, z-score: 1.904918496755369\n",
      "C689: Urinary organ, unspecified --- Patients in subset: 4, z-score: 1.120496094987163\n",
      "I10: Essential (primary) hypertension --- Patients in subset: 4, z-score: 1.3581998530987405\n",
      "D320: Cerebral meninges --- Patients in subset: 4, z-score: 1.120496094987163\n",
      "C07: Malignant neoplasm of parotid gland --- Patients in subset: 4, z-score: 0.811481209442112\n",
      "C760: Head, face and neck --- Patients in subset: 4, z-score: -0.09179307138188264\n"
     ]
    },
    {
     "name": "stdout",
     "output_type": "stream",
     "text": [
      "C750: Parathyroid gland --- Patients in subset: 4, z-score: 1.8336073693218957\n",
      "C829: Follicular non-Hodgkin's lymphoma, unspecified --- Patients in subset: 4, z-score: 1.1680368466094784\n",
      "C959: Leukaemia, unspecified --- Patients in subset: 4, z-score: 0.431155196463588\n",
      "N189: Chronic renal failure, unspecified --- Patients in subset: 3, z-score: 0.7164871749439004\n",
      "R688: Other specified general symptoms and signs --- Patients in subset: 3, z-score: 1.1007544953965942\n",
      "C910: Acute lymphoblastic leukaemia --- Patients in subset: 3, z-score: -0.4088671206675608\n",
      "D329: Meninges, unspecified --- Patients in subset: 3, z-score: 0.14008619426485908\n",
      "M069: Rheumatoid arthritis, unspecified --- Patients in subset: 3, z-score: 1.2654404898763205\n",
      "C320: Glottis --- Patients in subset: 3, z-score: 1.5124694815959094\n",
      "I516: Cardiovascular disease, unspecified --- Patients in subset: 3, z-score: 1.5124694815959094\n",
      "K703: Alcoholic cirrhosis of liver --- Patients in subset: 3, z-score: 0.2773245229979642\n",
      "C139: Hypopharynx, unspecified --- Patients in subset: 3, z-score: -0.957820435599981\n",
      "G301: Alzheimer's disease with late onset --- Patients in subset: 3, z-score: 1.2928881556229412\n",
      "Y839,T814: Surgical procedure, unspecified;Infection following a procedure, not elsewhere classified --- Patients in subset: 3, z-score: 1.5948124788357723\n",
      "C495: Connective and soft tissue of pelvis --- Patients in subset: 3, z-score: 0.9909638324101102\n",
      "C833: Large cell (diffuse) --- Patients in subset: 3, z-score: -7.023754565603222\n",
      "J47: Bronchiectasis --- Patients in subset: 3, z-score: -0.7656867753736337\n",
      "C819: Hodgkin's disease, unspecified --- Patients in subset: 3, z-score: -0.02459980021486683\n",
      "I099: Rheumatic heart disease, unspecified --- Patients in subset: 2, z-score: 1.3469807866634056\n",
      "D391: Ovary --- Patients in subset: 2, z-score: 0.8427349688407357\n",
      "C680: Urethra --- Patients in subset: 2, z-score: 0.0023252724696191528\n",
      "E119: Without complications --- Patients in subset: 2, z-score: 0.37210553887291037\n",
      "C837: Burkitt's tumour --- Patients in subset: 2, z-score: 0.43933831458259975\n",
      "C179: Small intestine, unspecified --- Patients in subset: 2, z-score: -1.0397827510305655\n",
      "C449: Malignant neoplasm of skin, unspecified --- Patients in subset: 2, z-score: -1.1070155267402546\n",
      "C119: Nasopharynx, unspecified --- Patients in subset: 2, z-score: -0.09852389109491476\n",
      "F011: Multi-infarct dementia --- Patients in subset: 2, z-score: 1.313364398808561\n",
      "E854: Organ-limited amyloidosis --- Patients in subset: 2, z-score: 0.5401874781471337\n",
      "C241: Ampulla of Vater --- Patients in subset: 2, z-score: -3.0231496344664\n",
      "I501: Left ventricular failure --- Patients in subset: 2, z-score: 1.0780496838246483\n",
      "C716: Cerebellum --- Patients in subset: 2, z-score: 0.10317443603415323\n",
      "C729: Central nervous system, unspecified --- Patients in subset: 2, z-score: 1.2461316230988717\n",
      "C343: Lower lobe, bronchus or lung --- Patients in subset: 2, z-score: -1.2414810781596333\n",
      "C412: Vertebral column --- Patients in subset: 2, z-score: 0.9435841324052698\n",
      "C37: Malignant neoplasm of thymus --- Patients in subset: 2, z-score: -0.13214027894975952\n",
      "J181: Lobar pneumonia, unspecified --- Patients in subset: 2, z-score: -1.2078646903047885\n",
      "G122: Motor neuron disease --- Patients in subset: 2, z-score: 0.2376399874535319\n",
      "C480: Retroperitoneum --- Patients in subset: 2, z-score: -0.06490750324007002\n",
      "C349,X499: Bronchus or lung, unspecified;Unspecified place --- Patients in subset: 2, z-score: 0.8763513566955803\n",
      "C099: Tonsil, unspecified --- Patients in subset: 2, z-score: -2.4516710409340408\n",
      "I489:  --- Patients in subset: 2, z-score: -4.670352639353789\n",
      "K922: Gastro-intestinal haemorrhage, unspecified --- Patients in subset: 2, z-score: -0.26660583036913815\n",
      "C457: Mesothelioma of other sites --- Patients in subset: 2, z-score: -2.3172054895146625\n",
      "J841: Other interstitial pulmonary diseases with fibrosis --- Patients in subset: 2, z-score: -7.527745607015585\n",
      "C73: Malignant neoplasm of thyroid gland --- Patients in subset: 2, z-score: -0.5355369332078955\n",
      "C380: Heart --- Patients in subset: 2, z-score: 0.9772005202601144\n",
      "C629: Testis, unspecified --- Patients in subset: 2, z-score: 1.1788988473891824\n",
      "C182: Ascending colon --- Patients in subset: 2, z-score: -0.43468776964336125\n",
      "C459,X496: Mesothelioma, unspecified;Industrial and construction area --- Patients in subset: 2, z-score: 1.111666071679493\n",
      "C251: Body of pancreas --- Patients in subset: 2, z-score: 1.111666071679493\n",
      "I694: Sequelae of stroke, not specified as haemorrhage or infarction --- Patients in subset: 2, z-score: 1.212515235244027\n",
      "C761: Thorax --- Patients in subset: 2, z-score: 0.3048727631632212\n",
      "D473: Essential (haemorrhagic) thrombocythaemia --- Patients in subset: 2, z-score: 1.0444332959698037\n",
      "K859:  --- Patients in subset: 2, z-score: 0.2712563753083765\n",
      "C451: Mesothelioma of peritoneum --- Patients in subset: 2, z-score: -0.8380844239014973\n",
      "I509: Heart failure, unspecified --- Patients in subset: 2, z-score: -0.33383860607882737\n",
      "D471: Chronic myeloproliferative disease --- Patients in subset: 2, z-score: -1.1406319145950994\n",
      "C321: Supraglottis --- Patients in subset: 2, z-score: -0.46830415749820603\n",
      "C310: Maxillary sinus --- Patients in subset: 2, z-score: 0.6410366417116677\n",
      "N183:  --- Patients in subset: 2, z-score: 1.313364398808561\n",
      "W191,S029: Residential institution;Fracture of skull and facial bones, part unspecified --- Patients in subset: 1, z-score: 0.9524592483776845\n",
      "C062: Retromolar area --- Patients in subset: 1, z-score: 0.47705173215452934\n",
      "C709: Meninges, unspecified --- Patients in subset: 1, z-score: 0.6672147386437914\n",
      "C444: Skin of scalp and neck --- Patients in subset: 1, z-score: -0.8540893132703051\n",
      "C714: Occipital lobe --- Patients in subset: 1, z-score: 0.5245924837768448\n",
      "D412: Ureter --- Patients in subset: 1, z-score: 0.8573777451330534\n",
      "C322: Subglottis --- Patients in subset: 1, z-score: 0.6196739870214758\n",
      "B49: Unspecified mycosis --- Patients in subset: 1, z-score: 0.904918496755369\n",
      "G903: Multisystem degeneration --- Patients in subset: 1, z-score: 0.8098369935107379\n",
      "G700: Myasthenia gravis --- Patients in subset: 1, z-score: 0.8098369935107379\n",
      "C929: Myeloid leukaemia, unspecified --- Patients in subset: 1, z-score: 0.1918072224206362\n",
      "K529: Non-infective gastro-enteritis and colitis, unspecified --- Patients in subset: 1, z-score: 0.8573777451330534\n",
      "D419: Urinary organ, unspecified --- Patients in subset: 1, z-score: 0.904918496755369\n",
      "C080: Submandibular gland --- Patients in subset: 1, z-score: 0.33442947728758277\n",
      "D374: Colon --- Patients in subset: 1, z-score: -3.040963887896819\n",
      "N390: Urinary tract infection, site not specified --- Patients in subset: 1, z-score: -10.267158134488778\n",
      "C901: Plasma cell leukaemia --- Patients in subset: 1, z-score: -0.188518790557888\n",
      "C844: Peripheral T-cell lymphoma --- Patients in subset: 1, z-score: -4.134401175210076\n",
      "J182: Hypostatic pneumonia, unspecified --- Patients in subset: 1, z-score: 0.904918496755369\n",
      "C414: Pelvic bones, sacrum and coccyx --- Patients in subset: 1, z-score: 0.5245924837768448\n",
      "C443: Skin of other and unspecified parts of face --- Patients in subset: 1, z-score: 0.6196739870214758\n",
      "I714: Abdominal aortic aneurysm, without mention of rupture --- Patients in subset: 1, z-score: 0.23934797404295172\n",
      "E105: With peripheral circulatory complications --- Patients in subset: 1, z-score: 0.9524592483776845\n",
      "A099:  --- Patients in subset: 1, z-score: -0.47376330029178115\n",
      "C348: Overlapping lesion of bronchus and lung --- Patients in subset: 1, z-score: 0.904918496755369\n",
      "C183: Hepatic flexure --- Patients in subset: 1, z-score: 0.4295109805322138\n",
      "E149: Without complications --- Patients in subset: 1, z-score: -0.5213040519140966\n",
      "C793: Secondary malignant neoplasm of brain and cerebral meninges --- Patients in subset: 1, z-score: -0.23605954218020342\n",
      "G939: Disorder of brain, unspecified --- Patients in subset: 1, z-score: 0.9524592483776845\n",
      "C481: Specified parts of peritoneum --- Patients in subset: 1, z-score: 0.1918072224206362\n",
      "Y218,T751: Other specified place;Drowning and nonfatal submersion --- Patients in subset: 1, z-score: 0.904918496755369\n",
      "W051,S720: Residential institution;Fracture of neck of femur --- Patients in subset: 1, z-score: 0.9524592483776845\n",
      "C787: Secondary malignant neoplasm of liver --- Patients in subset: 1, z-score: -3.9917789203431298\n"
     ]
    },
    {
     "name": "stdout",
     "output_type": "stream",
     "text": [
      "I515: Myocardial degeneration --- Patients in subset: 1, z-score: -0.14097803893557237\n",
      "C609: Penis, unspecified --- Patients in subset: 1, z-score: -0.28360029380251905\n",
      "C765: Lower limb --- Patients in subset: 1, z-score: 0.6672147386437914\n",
      "C384: Pleura --- Patients in subset: 1, z-score: -1.8049043457166154\n",
      "C492: Connective and soft tissue of lower limb, including hip --- Patients in subset: 1, z-score: -0.3786817970471501\n",
      "C171: Jejunum --- Patients in subset: 1, z-score: -0.09343728731325696\n",
      "K760: Fatty (change of) liver, not elsewhere classified --- Patients in subset: 1, z-score: 0.28688872566526724\n",
      "C919: Lymphoid leukaemia, unspecified --- Patients in subset: 1, z-score: 0.8573777451330534\n",
      "G952: Cord compression, unspecified --- Patients in subset: 1, z-score: 0.904918496755369\n",
      "E147: With multiple complications --- Patients in subset: 1, z-score: 0.6672147386437914\n",
      "C700: Cerebral meninges --- Patients in subset: 1, z-score: 0.904918496755369\n",
      "X599,T093: Unspecified place;Injury of spinal cord, level unspecified --- Patients in subset: 1, z-score: 0.9524592483776845\n",
      "D379: Digestive organ, unspecified --- Patients in subset: 1, z-score: 0.4295109805322138\n",
      "C845: Other and unspecified T-cell lymphomas --- Patients in subset: 1, z-score: -1.0442523197595674\n",
      "I609: Subarachnoid haemorrhage, unspecified --- Patients in subset: 1, z-score: -0.14097803893557237\n",
      "E102: With renal complications --- Patients in subset: 1, z-score: 0.8098369935107379\n",
      "C163: Pyloric antrum --- Patients in subset: 1, z-score: -0.14097803893557237\n",
      "D380: Larynx --- Patients in subset: 1, z-score: 0.6196739870214758\n",
      "Q871: Congenital malformation syndromes predominantly associated with short stature --- Patients in subset: 1, z-score: 0.9524592483776845\n",
      "C52: Malignant neoplasm of vagina --- Patients in subset: 1, z-score: -1.1393338230041983\n",
      "C399: Ill-defined sites within the respiratory system --- Patients in subset: 1, z-score: 0.6672147386437914\n",
      "N948: Other specified conditions associated with female genital organs and menstrual cycle --- Patients in subset: 1, z-score: 0.9524592483776845\n",
      "C798: Secondary malignant neoplasm of other specified sites --- Patients in subset: 1, z-score: -0.09343728731325696\n",
      "C718: Overlapping lesion of brain --- Patients in subset: 1, z-score: -0.3786817970471501\n",
      "X590: Home --- Patients in subset: 1, z-score: 0.8098369935107379\n",
      "D443: Pituitary gland --- Patients in subset: 1, z-score: 0.7622962418884224\n",
      "I119: Hypertensive heart disease without (congestive) heart failure --- Patients in subset: 1, z-score: -0.6163855551587276\n",
      "C755: Aortic body and other paraganglia --- Patients in subset: 1, z-score: 0.904918496755369\n",
      "I517: Cardiomegaly --- Patients in subset: 1, z-score: -0.04589653569094132\n",
      "K562: Volvulus --- Patients in subset: 1, z-score: 0.3819702289098983\n",
      "C749: Adrenal gland, unspecified --- Patients in subset: 1, z-score: -2.2327711103174552\n",
      "M259: Joint disorder, unspecified --- Patients in subset: 1, z-score: 0.6672147386437914\n",
      "C060: Cheek mucosa --- Patients in subset: 1, z-score: -0.663926306781043\n",
      "C767: Other ill-defined sites --- Patients in subset: 1, z-score: -0.9967115681372518\n",
      "J189: Pneumonia, unspecified --- Patients in subset: 1, z-score: -7.462253788772163\n",
      "C211: Anal canal --- Patients in subset: 1, z-score: -0.8065485616479897\n",
      "N185:  --- Patients in subset: 1, z-score: -0.23605954218020342\n",
      "C218: Overlapping lesion of rectum, anus and anal canal --- Patients in subset: 1, z-score: 0.14426647079832067\n",
      "K264: Chronic or unspecified with haemorrhage --- Patients in subset: 1, z-score: -1.2344153262488295\n",
      "C715: Cerebral ventricle --- Patients in subset: 1, z-score: 0.5721332353991604\n",
      "I311: Chronic constrictive pericarditis --- Patients in subset: 1, z-score: 0.9524592483776845\n",
      "C130: Postcricoid region --- Patients in subset: 1, z-score: 0.6196739870214758\n",
      "D431: Brain, infratentorial --- Patients in subset: 1, z-score: -0.09343728731325696\n",
      "A419: Septicaemia, unspecified --- Patients in subset: 1, z-score: -7.414713037149847\n",
      "D397: Other female genital organs --- Patients in subset: 1, z-score: 0.904918496755369\n",
      "D383: Mediastinum --- Patients in subset: 1, z-score: 0.7147554902661069\n",
      "D481: Connective and other soft tissue --- Patients in subset: 1, z-score: -0.188518790557888\n",
      "X110,T290: Home;Burns of multiple regions, unspecified degree --- Patients in subset: 1, z-score: 0.9524592483776845\n",
      "N289: Disorder of kidney and ureter, unspecified --- Patients in subset: 1, z-score: 0.8573777451330534\n",
      "I780: Hereditary haemorrhagic telangiectasia --- Patients in subset: 1, z-score: 0.9524592483776845\n",
      "I38: Endocarditis, valve unspecified --- Patients in subset: 1, z-score: -0.3786817970471501\n",
      "N739: Female pelvic inflammatory disease, unspecified --- Patients in subset: 1, z-score: 0.9524592483776845\n",
      "F106: Amnesic syndrome --- Patients in subset: 1, z-score: 0.9524592483776845\n",
      "J869: Pyothorax without fistula --- Patients in subset: 1, z-score: 0.5245924837768448\n",
      "N258: Other disorders resulting from impaired renal tubular function --- Patients in subset: 1, z-score: 0.9524592483776845\n",
      "D474:  --- Patients in subset: 1, z-score: -1.0917930713818826\n",
      "N329: Bladder disorder, unspecified --- Patients in subset: 1, z-score: 0.904918496755369\n",
      "G312: Degeneration of nervous system due to alcohol --- Patients in subset: 1, z-score: 0.9524592483776845\n",
      "D370: Lip, oral cavity and pharynx --- Patients in subset: 1, z-score: -0.04589653569094132\n",
      "C450,X499: Mesothelioma of pleura;Unspecified place --- Patients in subset: 1, z-score: -0.04589653569094132\n",
      "C031: Lower gum --- Patients in subset: 1, z-score: 0.7147554902661069\n",
      "C451,X499: Mesothelioma of peritoneum;Unspecified place --- Patients in subset: 1, z-score: 0.904918496755369\n",
      "F209: Schizophrenia, unspecified --- Patients in subset: 1, z-score: 0.9524592483776845\n",
      "K769: Liver disease, unspecified --- Patients in subset: 1, z-score: 0.23934797404295172\n",
      "I120: Hypertensive renal disease with renal failure --- Patients in subset: 1, z-score: 0.1918072224206362\n",
      "C030: Upper gum --- Patients in subset: 1, z-score: -1.7573635940943002\n",
      "J400:  --- Patients in subset: 1, z-score: 0.9524592483776845\n",
      "K501: Crohn's disease of large intestine --- Patients in subset: 1, z-score: 0.9524592483776845\n",
      "I110: Hypertensive heart disease with (congestive) heart failure --- Patients in subset: 1, z-score: -2.6130971232959794\n",
      "C059: Palate, unspecified --- Patients in subset: 1, z-score: 0.4295109805322138\n",
      "D487: Other specified sites --- Patients in subset: 1, z-score: -0.188518790557888\n",
      "C831: Small cleaved cell (diffuse) --- Patients in subset: 1, z-score: -4.181941926832391\n",
      "I429: Cardiomyopathy, unspecified --- Patients in subset: 1, z-score: 0.6196739870214758\n",
      "C785: Secondary malignant neoplasm of large intestine and rectum --- Patients in subset: 1, z-score: 0.9524592483776845\n",
      "D472: Monoclonal gammopathy --- Patients in subset: 1, z-score: 0.8573777451330534\n",
      "C459,X499: Mesothelioma, unspecified;Unspecified place --- Patients in subset: 1, z-score: -1.662282090849669\n",
      "D369: Benign neoplasm of unspecified site --- Patients in subset: 1, z-score: 0.904918496755369\n",
      "C969: Malignant neoplasms of lymphoid, haematopoietic and related tissue, unspecified --- Patients in subset: 1, z-score: -0.09343728731325696\n",
      "C493: Connective and soft tissue of thorax --- Patients in subset: 1, z-score: 0.14426647079832067\n",
      "L97: Ulcer of lower limb, not elsewhere classified --- Patients in subset: 1, z-score: 0.5245924837768448\n",
      "I48: Atrial fibrillation and flutter --- Patients in subset: 1, z-score: -0.47376330029178115\n",
      "C696: Orbit --- Patients in subset: 1, z-score: 0.8098369935107379\n",
      "C740: Cortex of adrenal gland --- Patients in subset: 1, z-score: 0.0016442159313740934\n",
      "I518: Other ill-defined heart diseases --- Patients in subset: 1, z-score: 0.47705173215452934\n"
     ]
    }
   ],
   "source": [
    "zscoreList = deviation(cancers_by_deathlocation(\"5\"), vc_dead)"
   ]
  },
  {
   "cell_type": "code",
   "execution_count": 23,
   "metadata": {},
   "outputs": [
    {
     "data": {
      "text/plain": [
       "\"\\nfig = plt.gcf()\\nplotly_fig = tls.mpl_to_plotly( fig )\\npy.iplot(plotly_fig, filename='mpl-basic-histogram')\\n\""
      ]
     },
     "execution_count": 23,
     "metadata": {},
     "output_type": "execute_result"
    },
    {
     "data": {
      "image/png": "[encoded data removed]",
      "text/plain": [
       "<Figure size 432x288 with 1 Axes>"
      ]
     },
     "metadata": {
      "needs_background": "light"
     },
     "output_type": "display_data"
    }
   ],
   "source": [
    "plt.hist(zscoreList)\n",
    "plt.title(\"Z-score Histogram\")\n",
    "plt.xlabel(\"Z-score\")\n",
    "plt.ylabel(\"\")\n",
    "\n",
    "'''\n",
    "fig = plt.gcf()\n",
    "plotly_fig = tls.mpl_to_plotly( fig )\n",
    "py.iplot(plotly_fig, filename='mpl-basic-histogram')\n",
    "'''"
   ]
  },
  {
   "cell_type": "code",
   "execution_count": 18,
   "metadata": {},
   "outputs": [
    {
     "name": "stdout",
     "output_type": "stream",
     "text": [
      "C349         2049\n",
      "C259          477\n",
      "C719          450\n",
      "C159          413\n",
      "C800          262\n",
      "C189          231\n",
      "C169          203\n",
      "C679          203\n",
      "C221          143\n",
      "C80           133\n",
      "C61           131\n",
      "C809          125\n",
      "C64           110\n",
      "C260          106\n",
      "C56           103\n",
      "C20           103\n",
      "C509           92\n",
      "C220           91\n",
      "C900           74\n",
      "F03            73\n",
      "C459           72\n",
      "C180           66\n",
      "C19            64\n",
      "D469           55\n",
      "D432           48\n",
      "C859           45\n",
      "C920           43\n",
      "I64            35\n",
      "C187           34\n",
      "F019           31\n",
      "             ... \n",
      "I311            1\n",
      "N390            1\n",
      "C969            1\n",
      "J182            1\n",
      "C787            1\n",
      "E102            1\n",
      "C030            1\n",
      "C767            1\n",
      "C740            1\n",
      "C749            1\n",
      "J869            1\n",
      "E147            1\n",
      "D374            1\n",
      "D443            1\n",
      "D481            1\n",
      "C831            1\n",
      "C459,X499       1\n",
      "C696            1\n",
      "D379            1\n",
      "C714            1\n",
      "C218            1\n",
      "C031            1\n",
      "C609            1\n",
      "K769            1\n",
      "G903            1\n",
      "W191,S029       1\n",
      "D370            1\n",
      "C414            1\n",
      "C444            1\n",
      "I119            1\n",
      "Name: DEATHCAUSECODE_UNDERLYING, Length: 271, dtype: int64\n"
     ]
    }
   ],
   "source": [
    "print(cancers_by_deathlocation(\"5\"))"
   ]
  },
  {
   "cell_type": "code",
   "execution_count": null,
   "metadata": {},
   "outputs": [],
   "source": []
  },
  {
   "cell_type": "code",
   "execution_count": 37,
   "metadata": {
    "scrolled": true
   },
   "outputs": [
    {
     "data": {
      "text/plain": [
       "'Bronchus or lung, unspecified'"
      ]
     },
     "execution_count": 37,
     "metadata": {},
     "output_type": "execute_result"
    }
   ],
   "source": [
    "desc.get_deathcause_description('C349')[0]"
   ]
  },
  {
   "cell_type": "code",
   "execution_count": 15,
   "metadata": {
    "scrolled": true
   },
   "outputs": [
    {
     "ename": "SyntaxError",
     "evalue": "invalid syntax (<ipython-input-15-5d33c6f26a2b>, line 1)",
     "output_type": "error",
     "traceback": [
      "\u001b[0;36m  File \u001b[0;32m\"<ipython-input-15-5d33c6f26a2b>\"\u001b[0;36m, line \u001b[0;32m1\u001b[0m\n\u001b[0;31m    qwerty = df_av_patient[][(df_av_patient[\"DEATHLOCATIONCODE\"] == \"5\") and (df_av_patient[\"DEATHCAUSECODE_UNDERLYING\"] == 'C259')]\u001b[0m\n\u001b[0m                           ^\u001b[0m\n\u001b[0;31mSyntaxError\u001b[0m\u001b[0;31m:\u001b[0m invalid syntax\n"
     ]
    }
   ],
   "source": [
    "qwerty = df_av_patient[][(df_av_patient[\"DEATHLOCATIONCODE\"] == \"5\") and (df_av_patient[\"DEATHCAUSECODE_UNDERLYING\"] == 'C259')]\n",
    "qwerty.head()\n"
   ]
  },
  {
   "cell_type": "code",
   "execution_count": 23,
   "metadata": {},
   "outputs": [
    {
     "data": {
      "text/plain": [
       "(17025, 21)"
      ]
     },
     "execution_count": 23,
     "metadata": {},
     "output_type": "execute_result"
    }
   ],
   "source": [
    "qwerty = df_av_patient.query(\"DEATHLOCATIONCODE == '5' & DEATHCAUSECODE_UNDERLYING == 'C259' \")\n",
    "\n",
    "qwerty.head()\n",
    "qwerty.shape"
   ]
  },
  {
   "cell_type": "code",
   "execution_count": null,
   "metadata": {},
   "outputs": [],
   "source": []
  }
 ],
 "metadata": {
  "kernelspec": {
   "display_name": "Python 3",
   "language": "python",
   "name": "python3"
  },
  "language_info": {
   "codemirror_mode": {
    "name": "ipython",
    "version": 3
   },
   "file_extension": ".py",
   "mimetype": "text/x-python",
   "name": "python",
   "nbconvert_exporter": "python",
   "pygments_lexer": "ipython3",
   "version": "3.7.1"
  }
 },
 "nbformat": 4,
 "nbformat_minor": 2
}
